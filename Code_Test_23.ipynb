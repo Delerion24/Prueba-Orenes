{
  "nbformat": 4,
  "nbformat_minor": 0,
  "metadata": {
    "colab": {
      "provenance": [],
      "collapsed_sections": [
        "dHtxB65P-1lg",
        "yEXjKRmG_JzZ",
        "FTLMm6AlXiNG",
        "orHHrNyBIJ0e",
        "bSs_E_ZqIYU8",
        "RKvheA7eo4HE"
      ],
      "include_colab_link": true
    },
    "kernelspec": {
      "name": "python3",
      "display_name": "Python 3"
    },
    "language_info": {
      "name": "python"
    }
  },
  "cells": [
    {
      "cell_type": "markdown",
      "metadata": {
        "id": "view-in-github",
        "colab_type": "text"
      },
      "source": [
        "<a href=\"https://colab.research.google.com/github/Delerion24/Prueba-Orenes/blob/main/Code_Test_23.ipynb\" target=\"_parent\"><img src=\"https://colab.research.google.com/assets/colab-badge.svg\" alt=\"Open In Colab\"/></a>"
      ]
    },
    {
      "cell_type": "markdown",
      "source": [
        "# Prueba de código: Ingeniero de Datos - Orenes Core\n",
        "Esta prueba está pensada para realizar la entrevista del puesto de Ingeniero de Datos. El objetivo es que este cuaderno sirva de hilo conductor en la entrevista técnica, la prueba está pensada para que puedas mostrar lo que sabes, no para descartar o acreditar candidatos. Es una herramienta a tu disposición, úsala de la forma que creas que mejor muestra tu conocimiento o tus cualidades. Por ejemplo: Si no puedes resolver un paso puedes simular la solución para mostrar otra cosa, si piensas que hay varias formas de resolver un problema o si piensas que hay algún añadido que no se pide siéntete libre de incluirlo.\n",
        "\n",
        "\n",
        "La entrega consistirá en una copia de esta plantilla con los apartados completados y se revisará durante la entrevista. Esta plantilla no puede editarse, **ANTES DE EMPEZAR** puedes realizar una copia editable en Archivo/Guardar una Copia en Drive. Se valorará durante la entrevista si has llevado un control de versiones en git (usando GitHub por ejemplo)."
      ],
      "metadata": {
        "id": "e7rPH3A0-teT"
      }
    },
    {
      "cell_type": "markdown",
      "source": [
        "## Entorno Spark\n",
        "  Esta pieza de código te permitirá usar una interfaz de Spark en Colab para resolver tus ejercicios."
      ],
      "metadata": {
        "id": "dHtxB65P-1lg"
      }
    },
    {
      "cell_type": "code",
      "execution_count": null,
      "metadata": {
        "colab": {
          "base_uri": "https://localhost:8080/"
        },
        "id": "g-vtskBr5mt4",
        "outputId": "ac236ce3-47b2-49b7-c651-867553416043"
      },
      "outputs": [
        {
          "output_type": "stream",
          "name": "stdout",
          "text": [
            "Looking in indexes: https://pypi.org/simple, https://us-python.pkg.dev/colab-wheels/public/simple/\n",
            "Requirement already satisfied: pyspark in /usr/local/lib/python3.8/dist-packages (3.3.2)\n",
            "Requirement already satisfied: py4j==0.10.9.5 in /usr/local/lib/python3.8/dist-packages (from pyspark) (0.10.9.5)\n"
          ]
        }
      ],
      "source": [
        "# Install pyspark\n",
        "!pip install pyspark\n",
        "# Import SparkSession\n",
        "from pyspark.sql import SparkSession\n",
        "# Create a Spark Session\n",
        "spark = SparkSession.builder.master(\"local[*]\").getOrCreate()\n",
        "# Check Spark Session Information\n",
        "spark\n",
        "# Import a Spark function from library\n",
        "from pyspark.sql.functions import col"
      ]
    },
    {
      "cell_type": "markdown",
      "source": [
        "## Paso 1\n",
        "Carga los datos del fichero housing_train.csv que guardado en la carpeta sample_data en un data frame de Spark."
      ],
      "metadata": {
        "id": "yEXjKRmG_JzZ"
      }
    },
    {
      "cell_type": "code",
      "source": [],
      "metadata": {
        "id": "ArZY3tFPoknh"
      },
      "execution_count": null,
      "outputs": []
    },
    {
      "cell_type": "markdown",
      "source": [
        "## Paso 2\n",
        "Crea otro data frame a apartir de un muestreo aleatorio del 20% del data frame creado. Después crea otro data frames con el resto de registros. Comprueba que al unir los dos data frames creados no existen pérdidas ni duplicados de registors respecto al obtenido en el paso anterior."
      ],
      "metadata": {
        "id": "FTLMm6AlXiNG"
      }
    },
    {
      "cell_type": "code",
      "source": [],
      "metadata": {
        "id": "vDpVZla3okHZ"
      },
      "execution_count": null,
      "outputs": []
    },
    {
      "cell_type": "markdown",
      "source": [
        "## Paso 3\n",
        "Realiza un histograma de cada uno de los campos y compara los dos data frames creados en el paso anterior."
      ],
      "metadata": {
        "id": "orHHrNyBIJ0e"
      }
    },
    {
      "cell_type": "code",
      "source": [],
      "metadata": {
        "id": "RxZZYpk5ITen"
      },
      "execution_count": null,
      "outputs": []
    },
    {
      "cell_type": "markdown",
      "source": [
        "## Paso 4\n",
        "Partiendo del data frame del primer paso. Obtén el registro que más al norte esté según el número de habitaciones que tenga. Es decir, el registro más al norte entre todos los registros con una sola habitación, el más al norte entre todos los registros de dos habitaciones, y así sucesivamente. "
      ],
      "metadata": {
        "id": "bSs_E_ZqIYU8"
      }
    },
    {
      "cell_type": "code",
      "source": [],
      "metadata": {
        "id": "-pYFshAQJ1dJ"
      },
      "execution_count": null,
      "outputs": []
    },
    {
      "cell_type": "markdown",
      "source": [
        "## Paso 5\n",
        "Partiendo de los dos data frames del Paso 2. Calcula la media de las latitudes de los cada data frame agregado por el el número de dormitorios. Calcula las difrencias entre las medias de cada data frame para el mismo número de dormitorios. Es decir, la diferencia entre la latitud media de los registros del data frame del 20% con un solo dormitorio y la latitud media del data frame del 80% con un solo dormitorio; Realiza esta operación para todo número de habitaciones. "
      ],
      "metadata": {
        "id": "k0JFezm0J2KC"
      }
    },
    {
      "cell_type": "code",
      "source": [],
      "metadata": {
        "id": "wMGbHIaFfT02"
      },
      "execution_count": null,
      "outputs": []
    },
    {
      "cell_type": "markdown",
      "source": [
        "## Paso 6\n",
        "Calcula cualquier medida que consideres interesante en utilizando Spark SQL. Por ejemplo, la media de dormitorios agrupado por las habitaciones que tiene cada registro."
      ],
      "metadata": {
        "id": "RKvheA7eo4HE"
      }
    },
    {
      "cell_type": "code",
      "source": [],
      "metadata": {
        "id": "l4eLI2-2pU9j"
      },
      "execution_count": null,
      "outputs": []
    }
  ]
}