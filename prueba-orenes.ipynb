{
 "cells": [
  {
   "cell_type": "markdown",
   "id": "5ecfcfee",
   "metadata": {
    "papermill": {
     "duration": 0.020576,
     "end_time": "2023-03-10T14:53:51.816427",
     "exception": false,
     "start_time": "2023-03-10T14:53:51.795851",
     "status": "completed"
    },
    "tags": []
   },
   "source": [
    "Antes que nada, para el corrector o lector quería decirle:\n",
    "\n",
    "- Lo he hecho en pandas pues aprender PySpark en dos días era muy arriesgado para completar la tarea. Pero yo no rechazo a PySpark, podría aprenderlo perfectamente.\n",
    "\n",
    "- Dígame si desea ver un código mio de clasificador de sonidos y un pdf sobre las prácticas que realicé en una empresa sobre ciencia de datos. Si lo desea, se lo paso al personal de RRHH que está hablando conmigo. Si no quiere le respeto, no le quiero hacer perder su tiempo.\n",
    "\n",
    "- He intentado hacer control de versiones con GitHub pero no se ha hecho correctamente.\n",
    "\n"
   ]
  },
  {
   "cell_type": "code",
   "execution_count": 1,
   "id": "819ebb0a",
   "metadata": {
    "_cell_guid": "b1076dfc-b9ad-4769-8c92-a6c4dae69d19",
    "_uuid": "8f2839f25d086af736a60e9eeb907d3b93b6e0e5",
    "execution": {
     "iopub.execute_input": "2023-03-10T14:53:51.858076Z",
     "iopub.status.busy": "2023-03-10T14:53:51.857268Z",
     "iopub.status.idle": "2023-03-10T14:53:51.867537Z",
     "shell.execute_reply": "2023-03-10T14:53:51.866259Z"
    },
    "papermill": {
     "duration": 0.035531,
     "end_time": "2023-03-10T14:53:51.870309",
     "exception": false,
     "start_time": "2023-03-10T14:53:51.834778",
     "status": "completed"
    },
    "tags": []
   },
   "outputs": [],
   "source": [
    "import pandas as pd\n",
    "\n",
    "import numpy as np\n",
    "\n",
    "import matplotlib.pyplot as plt"
   ]
  },
  {
   "cell_type": "markdown",
   "id": "e82c25c3",
   "metadata": {
    "papermill": {
     "duration": 0.018935,
     "end_time": "2023-03-10T14:53:51.908177",
     "exception": false,
     "start_time": "2023-03-10T14:53:51.889242",
     "status": "completed"
    },
    "tags": []
   },
   "source": [
    "# Carga los datos del fichero housing_train.csv que guardado en la carpeta sample_data en un data frame de Spark."
   ]
  },
  {
   "cell_type": "code",
   "execution_count": 2,
   "id": "010c116b",
   "metadata": {
    "execution": {
     "iopub.execute_input": "2023-03-10T14:53:51.948250Z",
     "iopub.status.busy": "2023-03-10T14:53:51.947811Z",
     "iopub.status.idle": "2023-03-10T14:53:52.030112Z",
     "shell.execute_reply": "2023-03-10T14:53:52.028589Z"
    },
    "papermill": {
     "duration": 0.105801,
     "end_time": "2023-03-10T14:53:52.033280",
     "exception": false,
     "start_time": "2023-03-10T14:53:51.927479",
     "status": "completed"
    },
    "tags": []
   },
   "outputs": [],
   "source": [
    "Data_housing_train = pd.read_csv(\"/kaggle/input/dataset-principal/california_housing_train.csv\")"
   ]
  },
  {
   "cell_type": "markdown",
   "id": "11fd9dcd",
   "metadata": {
    "papermill": {
     "duration": 0.019562,
     "end_time": "2023-03-10T14:53:52.071275",
     "exception": false,
     "start_time": "2023-03-10T14:53:52.051713",
     "status": "completed"
    },
    "tags": []
   },
   "source": [
    "# Crea otro data frame a apartir de un muestreo aleatorio del 20% del data frame creado. Después crea otro data frames con el resto de registros. Comprueba que al unir los dos data frames creados no existen pérdidas ni duplicados de registors respecto al obtenido en el paso anterior."
   ]
  },
  {
   "cell_type": "markdown",
   "id": "d818d965",
   "metadata": {
    "papermill": {
     "duration": 0.018594,
     "end_time": "2023-03-10T14:53:52.110135",
     "exception": false,
     "start_time": "2023-03-10T14:53:52.091541",
     "status": "completed"
    },
    "tags": []
   },
   "source": [
    "Genero la muestra del 20%"
   ]
  },
  {
   "cell_type": "code",
   "execution_count": 3,
   "id": "38937442",
   "metadata": {
    "execution": {
     "iopub.execute_input": "2023-03-10T14:53:52.148701Z",
     "iopub.status.busy": "2023-03-10T14:53:52.148297Z",
     "iopub.status.idle": "2023-03-10T14:53:52.159807Z",
     "shell.execute_reply": "2023-03-10T14:53:52.158379Z"
    },
    "papermill": {
     "duration": 0.0341,
     "end_time": "2023-03-10T14:53:52.162424",
     "exception": false,
     "start_time": "2023-03-10T14:53:52.128324",
     "status": "completed"
    },
    "tags": []
   },
   "outputs": [],
   "source": [
    "Sample_Data_housing_train = Data_housing_train.sample(frac=0.2)"
   ]
  },
  {
   "cell_type": "markdown",
   "id": "b7538b33",
   "metadata": {
    "papermill": {
     "duration": 0.019683,
     "end_time": "2023-03-10T14:53:52.201902",
     "exception": false,
     "start_time": "2023-03-10T14:53:52.182219",
     "status": "completed"
    },
    "tags": []
   },
   "source": [
    "Aquí el data frame"
   ]
  },
  {
   "cell_type": "code",
   "execution_count": 4,
   "id": "eee71b8b",
   "metadata": {
    "execution": {
     "iopub.execute_input": "2023-03-10T14:53:52.243048Z",
     "iopub.status.busy": "2023-03-10T14:53:52.241906Z",
     "iopub.status.idle": "2023-03-10T14:53:52.283676Z",
     "shell.execute_reply": "2023-03-10T14:53:52.282319Z"
    },
    "papermill": {
     "duration": 0.065243,
     "end_time": "2023-03-10T14:53:52.286695",
     "exception": false,
     "start_time": "2023-03-10T14:53:52.221452",
     "status": "completed"
    },
    "tags": []
   },
   "outputs": [
    {
     "data": {
      "text/html": [
       "<div>\n",
       "<style scoped>\n",
       "    .dataframe tbody tr th:only-of-type {\n",
       "        vertical-align: middle;\n",
       "    }\n",
       "\n",
       "    .dataframe tbody tr th {\n",
       "        vertical-align: top;\n",
       "    }\n",
       "\n",
       "    .dataframe thead th {\n",
       "        text-align: right;\n",
       "    }\n",
       "</style>\n",
       "<table border=\"1\" class=\"dataframe\">\n",
       "  <thead>\n",
       "    <tr style=\"text-align: right;\">\n",
       "      <th></th>\n",
       "      <th>longitude</th>\n",
       "      <th>latitude</th>\n",
       "      <th>housing_median_age</th>\n",
       "      <th>total_rooms</th>\n",
       "      <th>total_bedrooms</th>\n",
       "      <th>population</th>\n",
       "      <th>households</th>\n",
       "      <th>median_income</th>\n",
       "      <th>median_house_value</th>\n",
       "    </tr>\n",
       "  </thead>\n",
       "  <tbody>\n",
       "    <tr>\n",
       "      <th>522</th>\n",
       "      <td>-117.00</td>\n",
       "      <td>32.87</td>\n",
       "      <td>18.0</td>\n",
       "      <td>11544.0</td>\n",
       "      <td>1979.0</td>\n",
       "      <td>6296.0</td>\n",
       "      <td>1923.0</td>\n",
       "      <td>4.4904</td>\n",
       "      <td>150400.0</td>\n",
       "    </tr>\n",
       "    <tr>\n",
       "      <th>16416</th>\n",
       "      <td>-122.56</td>\n",
       "      <td>37.98</td>\n",
       "      <td>36.0</td>\n",
       "      <td>2649.0</td>\n",
       "      <td>542.0</td>\n",
       "      <td>1111.0</td>\n",
       "      <td>557.0</td>\n",
       "      <td>4.8056</td>\n",
       "      <td>345700.0</td>\n",
       "    </tr>\n",
       "    <tr>\n",
       "      <th>12222</th>\n",
       "      <td>-121.47</td>\n",
       "      <td>38.57</td>\n",
       "      <td>52.0</td>\n",
       "      <td>438.0</td>\n",
       "      <td>103.0</td>\n",
       "      <td>176.0</td>\n",
       "      <td>99.0</td>\n",
       "      <td>3.0217</td>\n",
       "      <td>200000.0</td>\n",
       "    </tr>\n",
       "    <tr>\n",
       "      <th>13174</th>\n",
       "      <td>-121.89</td>\n",
       "      <td>37.28</td>\n",
       "      <td>32.0</td>\n",
       "      <td>4308.0</td>\n",
       "      <td>717.0</td>\n",
       "      <td>2002.0</td>\n",
       "      <td>695.0</td>\n",
       "      <td>4.1645</td>\n",
       "      <td>281900.0</td>\n",
       "    </tr>\n",
       "    <tr>\n",
       "      <th>8861</th>\n",
       "      <td>-118.75</td>\n",
       "      <td>34.27</td>\n",
       "      <td>26.0</td>\n",
       "      <td>966.0</td>\n",
       "      <td>191.0</td>\n",
       "      <td>690.0</td>\n",
       "      <td>191.0</td>\n",
       "      <td>5.1698</td>\n",
       "      <td>188000.0</td>\n",
       "    </tr>\n",
       "    <tr>\n",
       "      <th>...</th>\n",
       "      <td>...</td>\n",
       "      <td>...</td>\n",
       "      <td>...</td>\n",
       "      <td>...</td>\n",
       "      <td>...</td>\n",
       "      <td>...</td>\n",
       "      <td>...</td>\n",
       "      <td>...</td>\n",
       "      <td>...</td>\n",
       "    </tr>\n",
       "    <tr>\n",
       "      <th>15777</th>\n",
       "      <td>-122.41</td>\n",
       "      <td>37.79</td>\n",
       "      <td>52.0</td>\n",
       "      <td>2302.0</td>\n",
       "      <td>938.0</td>\n",
       "      <td>1515.0</td>\n",
       "      <td>861.0</td>\n",
       "      <td>1.3668</td>\n",
       "      <td>55000.0</td>\n",
       "    </tr>\n",
       "    <tr>\n",
       "      <th>3397</th>\n",
       "      <td>-117.88</td>\n",
       "      <td>33.69</td>\n",
       "      <td>20.0</td>\n",
       "      <td>5330.0</td>\n",
       "      <td>976.0</td>\n",
       "      <td>2734.0</td>\n",
       "      <td>1000.0</td>\n",
       "      <td>5.2138</td>\n",
       "      <td>233100.0</td>\n",
       "    </tr>\n",
       "    <tr>\n",
       "      <th>8146</th>\n",
       "      <td>-118.43</td>\n",
       "      <td>34.06</td>\n",
       "      <td>38.0</td>\n",
       "      <td>2982.0</td>\n",
       "      <td>664.0</td>\n",
       "      <td>1122.0</td>\n",
       "      <td>572.0</td>\n",
       "      <td>4.1908</td>\n",
       "      <td>500001.0</td>\n",
       "    </tr>\n",
       "    <tr>\n",
       "      <th>10953</th>\n",
       "      <td>-120.88</td>\n",
       "      <td>37.37</td>\n",
       "      <td>24.0</td>\n",
       "      <td>1294.0</td>\n",
       "      <td>222.0</td>\n",
       "      <td>684.0</td>\n",
       "      <td>221.0</td>\n",
       "      <td>2.6908</td>\n",
       "      <td>103100.0</td>\n",
       "    </tr>\n",
       "    <tr>\n",
       "      <th>1370</th>\n",
       "      <td>-117.17</td>\n",
       "      <td>32.79</td>\n",
       "      <td>43.0</td>\n",
       "      <td>1269.0</td>\n",
       "      <td>297.0</td>\n",
       "      <td>946.0</td>\n",
       "      <td>285.0</td>\n",
       "      <td>2.1447</td>\n",
       "      <td>133300.0</td>\n",
       "    </tr>\n",
       "  </tbody>\n",
       "</table>\n",
       "<p>3400 rows × 9 columns</p>\n",
       "</div>"
      ],
      "text/plain": [
       "       longitude  latitude  housing_median_age  total_rooms  total_bedrooms  \\\n",
       "522      -117.00     32.87                18.0      11544.0          1979.0   \n",
       "16416    -122.56     37.98                36.0       2649.0           542.0   \n",
       "12222    -121.47     38.57                52.0        438.0           103.0   \n",
       "13174    -121.89     37.28                32.0       4308.0           717.0   \n",
       "8861     -118.75     34.27                26.0        966.0           191.0   \n",
       "...          ...       ...                 ...          ...             ...   \n",
       "15777    -122.41     37.79                52.0       2302.0           938.0   \n",
       "3397     -117.88     33.69                20.0       5330.0           976.0   \n",
       "8146     -118.43     34.06                38.0       2982.0           664.0   \n",
       "10953    -120.88     37.37                24.0       1294.0           222.0   \n",
       "1370     -117.17     32.79                43.0       1269.0           297.0   \n",
       "\n",
       "       population  households  median_income  median_house_value  \n",
       "522        6296.0      1923.0         4.4904            150400.0  \n",
       "16416      1111.0       557.0         4.8056            345700.0  \n",
       "12222       176.0        99.0         3.0217            200000.0  \n",
       "13174      2002.0       695.0         4.1645            281900.0  \n",
       "8861        690.0       191.0         5.1698            188000.0  \n",
       "...           ...         ...            ...                 ...  \n",
       "15777      1515.0       861.0         1.3668             55000.0  \n",
       "3397       2734.0      1000.0         5.2138            233100.0  \n",
       "8146       1122.0       572.0         4.1908            500001.0  \n",
       "10953       684.0       221.0         2.6908            103100.0  \n",
       "1370        946.0       285.0         2.1447            133300.0  \n",
       "\n",
       "[3400 rows x 9 columns]"
      ]
     },
     "execution_count": 4,
     "metadata": {},
     "output_type": "execute_result"
    }
   ],
   "source": [
    "Sample_Data_housing_train "
   ]
  },
  {
   "cell_type": "markdown",
   "id": "9d03e4ef",
   "metadata": {
    "papermill": {
     "duration": 0.018232,
     "end_time": "2023-03-10T14:53:52.323725",
     "exception": false,
     "start_time": "2023-03-10T14:53:52.305493",
     "status": "completed"
    },
    "tags": []
   },
   "source": [
    "Creo el resto que es una muestra del 80%"
   ]
  },
  {
   "cell_type": "code",
   "execution_count": 5,
   "id": "98050fc0",
   "metadata": {
    "execution": {
     "iopub.execute_input": "2023-03-10T14:53:52.363483Z",
     "iopub.status.busy": "2023-03-10T14:53:52.362368Z",
     "iopub.status.idle": "2023-03-10T14:53:52.390319Z",
     "shell.execute_reply": "2023-03-10T14:53:52.389138Z"
    },
    "papermill": {
     "duration": 0.051019,
     "end_time": "2023-03-10T14:53:52.393463",
     "exception": false,
     "start_time": "2023-03-10T14:53:52.342444",
     "status": "completed"
    },
    "tags": []
   },
   "outputs": [],
   "source": [
    "df = Data_housing_train\n",
    "\n",
    "Sample_df = Sample_Data_housing_train\n",
    "\n",
    "#Para generar el resto. Cojo el \"todo\" y le sumo la muestra.\n",
    "#Todo+ muestra = muestra + resto de muestra + muestra.\n",
    "# Utilizo el comando drop con keep=False para eliminar todos los datos repetidos\n",
    "#Solo queda resto de muestra\n",
    "\n",
    "\n",
    "Rest_Sample_Data_housing_train=pd.concat([df,Sample_df]).drop_duplicates(keep=False)"
   ]
  },
  {
   "cell_type": "markdown",
   "id": "6d819c4d",
   "metadata": {
    "papermill": {
     "duration": 0.018746,
     "end_time": "2023-03-10T14:53:52.431652",
     "exception": false,
     "start_time": "2023-03-10T14:53:52.412906",
     "status": "completed"
    },
    "tags": []
   },
   "source": [
    "Ahora miro si sumando los dos data frame da el data frame original"
   ]
  },
  {
   "cell_type": "code",
   "execution_count": 6,
   "id": "427118d8",
   "metadata": {
    "execution": {
     "iopub.execute_input": "2023-03-10T14:53:52.470761Z",
     "iopub.status.busy": "2023-03-10T14:53:52.470336Z",
     "iopub.status.idle": "2023-03-10T14:53:52.477188Z",
     "shell.execute_reply": "2023-03-10T14:53:52.475768Z"
    },
    "papermill": {
     "duration": 0.029449,
     "end_time": "2023-03-10T14:53:52.479788",
     "exception": false,
     "start_time": "2023-03-10T14:53:52.450339",
     "status": "completed"
    },
    "tags": []
   },
   "outputs": [],
   "source": [
    "Rest_df =Rest_Sample_Data_housing_train\n",
    "\n",
    "\n",
    "Data_sumada_por_2_partes=pd.concat([Rest_df,Sample_df])"
   ]
  },
  {
   "cell_type": "code",
   "execution_count": 7,
   "id": "a9ec19a4",
   "metadata": {
    "execution": {
     "iopub.execute_input": "2023-03-10T14:53:52.519534Z",
     "iopub.status.busy": "2023-03-10T14:53:52.518687Z",
     "iopub.status.idle": "2023-03-10T14:53:52.527247Z",
     "shell.execute_reply": "2023-03-10T14:53:52.526061Z"
    },
    "papermill": {
     "duration": 0.031778,
     "end_time": "2023-03-10T14:53:52.530225",
     "exception": false,
     "start_time": "2023-03-10T14:53:52.498447",
     "status": "completed"
    },
    "tags": []
   },
   "outputs": [],
   "source": [
    "#concat desordena los datos y entonces debo ordenar para que el comando equals funcione\n",
    "\n",
    "\n",
    "Data_ordenada_sumada_por_2_partes = Data_sumada_por_2_partes.sort_index()"
   ]
  },
  {
   "cell_type": "code",
   "execution_count": 8,
   "id": "a571095d",
   "metadata": {
    "execution": {
     "iopub.execute_input": "2023-03-10T14:53:52.570582Z",
     "iopub.status.busy": "2023-03-10T14:53:52.570156Z",
     "iopub.status.idle": "2023-03-10T14:53:52.578522Z",
     "shell.execute_reply": "2023-03-10T14:53:52.577295Z"
    },
    "papermill": {
     "duration": 0.031811,
     "end_time": "2023-03-10T14:53:52.581362",
     "exception": false,
     "start_time": "2023-03-10T14:53:52.549551",
     "status": "completed"
    },
    "tags": []
   },
   "outputs": [
    {
     "data": {
      "text/plain": [
       "True"
      ]
     },
     "execution_count": 8,
     "metadata": {},
     "output_type": "execute_result"
    }
   ],
   "source": [
    "Data_ordenada_sumada_por_2_partes.equals(Data_housing_train)"
   ]
  },
  {
   "cell_type": "markdown",
   "id": "e809a758",
   "metadata": {
    "papermill": {
     "duration": 0.018995,
     "end_time": "2023-03-10T14:53:52.619770",
     "exception": false,
     "start_time": "2023-03-10T14:53:52.600775",
     "status": "completed"
    },
    "tags": []
   },
   "source": [
    "Este comando nos dice que es el mismo data frame"
   ]
  },
  {
   "cell_type": "markdown",
   "id": "d875e390",
   "metadata": {
    "papermill": {
     "duration": 0.0184,
     "end_time": "2023-03-10T14:53:52.657342",
     "exception": false,
     "start_time": "2023-03-10T14:53:52.638942",
     "status": "completed"
    },
    "tags": []
   },
   "source": [
    "**Laboratorio 1**\n",
    "\n",
    "Como físico sé que una ley física nace de la inducción de una muestra de casos particulares. Entonces llamo a Laboratorio en este codigo a experimentar con datos pequeños y ver cual es la esencia cuando se programa en datos grandes. Induzco el codigo para datos grandes de casos particulares. He borrado algunos laboratorios por el camino\n",
    "\n",
    "No hace falta que lo mire, no hay información útil. Salteselos si desea"
   ]
  },
  {
   "cell_type": "code",
   "execution_count": 9,
   "id": "7e6c7af1",
   "metadata": {
    "execution": {
     "iopub.execute_input": "2023-03-10T14:53:52.696378Z",
     "iopub.status.busy": "2023-03-10T14:53:52.695927Z",
     "iopub.status.idle": "2023-03-10T14:53:52.703814Z",
     "shell.execute_reply": "2023-03-10T14:53:52.702652Z"
    },
    "papermill": {
     "duration": 0.030328,
     "end_time": "2023-03-10T14:53:52.706134",
     "exception": false,
     "start_time": "2023-03-10T14:53:52.675806",
     "status": "completed"
    },
    "tags": []
   },
   "outputs": [],
   "source": [
    "df_ = pd.DataFrame(np.random.randint(0,100,size=(10, 7)), columns=list('ABCDEFG'))"
   ]
  },
  {
   "cell_type": "code",
   "execution_count": 10,
   "id": "2364fd5a",
   "metadata": {
    "execution": {
     "iopub.execute_input": "2023-03-10T14:53:52.745694Z",
     "iopub.status.busy": "2023-03-10T14:53:52.744952Z",
     "iopub.status.idle": "2023-03-10T14:53:52.756096Z",
     "shell.execute_reply": "2023-03-10T14:53:52.755247Z"
    },
    "papermill": {
     "duration": 0.033617,
     "end_time": "2023-03-10T14:53:52.758388",
     "exception": false,
     "start_time": "2023-03-10T14:53:52.724771",
     "status": "completed"
    },
    "tags": []
   },
   "outputs": [
    {
     "data": {
      "text/html": [
       "<div>\n",
       "<style scoped>\n",
       "    .dataframe tbody tr th:only-of-type {\n",
       "        vertical-align: middle;\n",
       "    }\n",
       "\n",
       "    .dataframe tbody tr th {\n",
       "        vertical-align: top;\n",
       "    }\n",
       "\n",
       "    .dataframe thead th {\n",
       "        text-align: right;\n",
       "    }\n",
       "</style>\n",
       "<table border=\"1\" class=\"dataframe\">\n",
       "  <thead>\n",
       "    <tr style=\"text-align: right;\">\n",
       "      <th></th>\n",
       "      <th>A</th>\n",
       "      <th>B</th>\n",
       "      <th>C</th>\n",
       "      <th>D</th>\n",
       "      <th>E</th>\n",
       "      <th>F</th>\n",
       "      <th>G</th>\n",
       "    </tr>\n",
       "  </thead>\n",
       "  <tbody>\n",
       "    <tr>\n",
       "      <th>0</th>\n",
       "      <td>34</td>\n",
       "      <td>48</td>\n",
       "      <td>92</td>\n",
       "      <td>97</td>\n",
       "      <td>58</td>\n",
       "      <td>91</td>\n",
       "      <td>43</td>\n",
       "    </tr>\n",
       "    <tr>\n",
       "      <th>1</th>\n",
       "      <td>64</td>\n",
       "      <td>67</td>\n",
       "      <td>61</td>\n",
       "      <td>67</td>\n",
       "      <td>38</td>\n",
       "      <td>50</td>\n",
       "      <td>49</td>\n",
       "    </tr>\n",
       "    <tr>\n",
       "      <th>2</th>\n",
       "      <td>40</td>\n",
       "      <td>5</td>\n",
       "      <td>80</td>\n",
       "      <td>5</td>\n",
       "      <td>42</td>\n",
       "      <td>18</td>\n",
       "      <td>64</td>\n",
       "    </tr>\n",
       "    <tr>\n",
       "      <th>3</th>\n",
       "      <td>95</td>\n",
       "      <td>1</td>\n",
       "      <td>21</td>\n",
       "      <td>11</td>\n",
       "      <td>68</td>\n",
       "      <td>61</td>\n",
       "      <td>24</td>\n",
       "    </tr>\n",
       "    <tr>\n",
       "      <th>4</th>\n",
       "      <td>14</td>\n",
       "      <td>29</td>\n",
       "      <td>72</td>\n",
       "      <td>68</td>\n",
       "      <td>35</td>\n",
       "      <td>53</td>\n",
       "      <td>24</td>\n",
       "    </tr>\n",
       "    <tr>\n",
       "      <th>5</th>\n",
       "      <td>0</td>\n",
       "      <td>37</td>\n",
       "      <td>40</td>\n",
       "      <td>15</td>\n",
       "      <td>23</td>\n",
       "      <td>29</td>\n",
       "      <td>51</td>\n",
       "    </tr>\n",
       "    <tr>\n",
       "      <th>6</th>\n",
       "      <td>26</td>\n",
       "      <td>92</td>\n",
       "      <td>58</td>\n",
       "      <td>26</td>\n",
       "      <td>96</td>\n",
       "      <td>57</td>\n",
       "      <td>91</td>\n",
       "    </tr>\n",
       "    <tr>\n",
       "      <th>7</th>\n",
       "      <td>25</td>\n",
       "      <td>82</td>\n",
       "      <td>33</td>\n",
       "      <td>36</td>\n",
       "      <td>80</td>\n",
       "      <td>33</td>\n",
       "      <td>83</td>\n",
       "    </tr>\n",
       "    <tr>\n",
       "      <th>8</th>\n",
       "      <td>21</td>\n",
       "      <td>87</td>\n",
       "      <td>19</td>\n",
       "      <td>10</td>\n",
       "      <td>31</td>\n",
       "      <td>60</td>\n",
       "      <td>68</td>\n",
       "    </tr>\n",
       "    <tr>\n",
       "      <th>9</th>\n",
       "      <td>59</td>\n",
       "      <td>34</td>\n",
       "      <td>69</td>\n",
       "      <td>7</td>\n",
       "      <td>44</td>\n",
       "      <td>86</td>\n",
       "      <td>81</td>\n",
       "    </tr>\n",
       "  </tbody>\n",
       "</table>\n",
       "</div>"
      ],
      "text/plain": [
       "    A   B   C   D   E   F   G\n",
       "0  34  48  92  97  58  91  43\n",
       "1  64  67  61  67  38  50  49\n",
       "2  40   5  80   5  42  18  64\n",
       "3  95   1  21  11  68  61  24\n",
       "4  14  29  72  68  35  53  24\n",
       "5   0  37  40  15  23  29  51\n",
       "6  26  92  58  26  96  57  91\n",
       "7  25  82  33  36  80  33  83\n",
       "8  21  87  19  10  31  60  68\n",
       "9  59  34  69   7  44  86  81"
      ]
     },
     "execution_count": 10,
     "metadata": {},
     "output_type": "execute_result"
    }
   ],
   "source": [
    "df_"
   ]
  },
  {
   "cell_type": "code",
   "execution_count": 11,
   "id": "02eb6a5f",
   "metadata": {
    "execution": {
     "iopub.execute_input": "2023-03-10T14:53:52.799556Z",
     "iopub.status.busy": "2023-03-10T14:53:52.798846Z",
     "iopub.status.idle": "2023-03-10T14:53:52.815410Z",
     "shell.execute_reply": "2023-03-10T14:53:52.813729Z"
    },
    "papermill": {
     "duration": 0.042049,
     "end_time": "2023-03-10T14:53:52.819889",
     "exception": false,
     "start_time": "2023-03-10T14:53:52.777840",
     "status": "completed"
    },
    "tags": []
   },
   "outputs": [],
   "source": [
    "Sample_df_ = df.sample(frac=0.2)\n",
    "\n",
    "Rest_Sample_df_=pd.concat([df_,Sample_df_]).drop_duplicates(keep=False)\n",
    "\n",
    "x=pd.concat([Rest_Sample_df_,Sample_df_])"
   ]
  },
  {
   "cell_type": "code",
   "execution_count": 12,
   "id": "8aad347f",
   "metadata": {
    "execution": {
     "iopub.execute_input": "2023-03-10T14:53:52.861657Z",
     "iopub.status.busy": "2023-03-10T14:53:52.860609Z",
     "iopub.status.idle": "2023-03-10T14:53:52.873583Z",
     "shell.execute_reply": "2023-03-10T14:53:52.871791Z"
    },
    "papermill": {
     "duration": 0.036935,
     "end_time": "2023-03-10T14:53:52.876477",
     "exception": false,
     "start_time": "2023-03-10T14:53:52.839542",
     "status": "completed"
    },
    "tags": []
   },
   "outputs": [
    {
     "data": {
      "text/plain": [
       "False"
      ]
     },
     "execution_count": 12,
     "metadata": {},
     "output_type": "execute_result"
    }
   ],
   "source": [
    "x =x.sort_index()\n",
    "\n",
    "x.equals(df_)"
   ]
  },
  {
   "cell_type": "code",
   "execution_count": 13,
   "id": "2dc7adb0",
   "metadata": {
    "execution": {
     "iopub.execute_input": "2023-03-10T14:53:52.918292Z",
     "iopub.status.busy": "2023-03-10T14:53:52.917707Z",
     "iopub.status.idle": "2023-03-10T14:53:52.931306Z",
     "shell.execute_reply": "2023-03-10T14:53:52.930085Z"
    },
    "papermill": {
     "duration": 0.037462,
     "end_time": "2023-03-10T14:53:52.933849",
     "exception": false,
     "start_time": "2023-03-10T14:53:52.896387",
     "status": "completed"
    },
    "tags": []
   },
   "outputs": [
    {
     "data": {
      "text/html": [
       "<div>\n",
       "<style scoped>\n",
       "    .dataframe tbody tr th:only-of-type {\n",
       "        vertical-align: middle;\n",
       "    }\n",
       "\n",
       "    .dataframe tbody tr th {\n",
       "        vertical-align: top;\n",
       "    }\n",
       "\n",
       "    .dataframe thead th {\n",
       "        text-align: right;\n",
       "    }\n",
       "</style>\n",
       "<table border=\"1\" class=\"dataframe\">\n",
       "  <thead>\n",
       "    <tr style=\"text-align: right;\">\n",
       "      <th></th>\n",
       "      <th>A</th>\n",
       "      <th>B</th>\n",
       "      <th>C</th>\n",
       "      <th>D</th>\n",
       "      <th>E</th>\n",
       "      <th>F</th>\n",
       "      <th>G</th>\n",
       "    </tr>\n",
       "  </thead>\n",
       "  <tbody>\n",
       "    <tr>\n",
       "      <th>0</th>\n",
       "      <td>34</td>\n",
       "      <td>48</td>\n",
       "      <td>92</td>\n",
       "      <td>97</td>\n",
       "      <td>58</td>\n",
       "      <td>91</td>\n",
       "      <td>43</td>\n",
       "    </tr>\n",
       "    <tr>\n",
       "      <th>1</th>\n",
       "      <td>64</td>\n",
       "      <td>67</td>\n",
       "      <td>61</td>\n",
       "      <td>67</td>\n",
       "      <td>38</td>\n",
       "      <td>50</td>\n",
       "      <td>49</td>\n",
       "    </tr>\n",
       "    <tr>\n",
       "      <th>2</th>\n",
       "      <td>40</td>\n",
       "      <td>5</td>\n",
       "      <td>80</td>\n",
       "      <td>5</td>\n",
       "      <td>42</td>\n",
       "      <td>18</td>\n",
       "      <td>64</td>\n",
       "    </tr>\n",
       "    <tr>\n",
       "      <th>3</th>\n",
       "      <td>95</td>\n",
       "      <td>1</td>\n",
       "      <td>21</td>\n",
       "      <td>11</td>\n",
       "      <td>68</td>\n",
       "      <td>61</td>\n",
       "      <td>24</td>\n",
       "    </tr>\n",
       "    <tr>\n",
       "      <th>4</th>\n",
       "      <td>14</td>\n",
       "      <td>29</td>\n",
       "      <td>72</td>\n",
       "      <td>68</td>\n",
       "      <td>35</td>\n",
       "      <td>53</td>\n",
       "      <td>24</td>\n",
       "    </tr>\n",
       "    <tr>\n",
       "      <th>5</th>\n",
       "      <td>0</td>\n",
       "      <td>37</td>\n",
       "      <td>40</td>\n",
       "      <td>15</td>\n",
       "      <td>23</td>\n",
       "      <td>29</td>\n",
       "      <td>51</td>\n",
       "    </tr>\n",
       "    <tr>\n",
       "      <th>6</th>\n",
       "      <td>26</td>\n",
       "      <td>92</td>\n",
       "      <td>58</td>\n",
       "      <td>26</td>\n",
       "      <td>96</td>\n",
       "      <td>57</td>\n",
       "      <td>91</td>\n",
       "    </tr>\n",
       "    <tr>\n",
       "      <th>7</th>\n",
       "      <td>25</td>\n",
       "      <td>82</td>\n",
       "      <td>33</td>\n",
       "      <td>36</td>\n",
       "      <td>80</td>\n",
       "      <td>33</td>\n",
       "      <td>83</td>\n",
       "    </tr>\n",
       "    <tr>\n",
       "      <th>8</th>\n",
       "      <td>21</td>\n",
       "      <td>87</td>\n",
       "      <td>19</td>\n",
       "      <td>10</td>\n",
       "      <td>31</td>\n",
       "      <td>60</td>\n",
       "      <td>68</td>\n",
       "    </tr>\n",
       "    <tr>\n",
       "      <th>9</th>\n",
       "      <td>59</td>\n",
       "      <td>34</td>\n",
       "      <td>69</td>\n",
       "      <td>7</td>\n",
       "      <td>44</td>\n",
       "      <td>86</td>\n",
       "      <td>81</td>\n",
       "    </tr>\n",
       "  </tbody>\n",
       "</table>\n",
       "</div>"
      ],
      "text/plain": [
       "    A   B   C   D   E   F   G\n",
       "0  34  48  92  97  58  91  43\n",
       "1  64  67  61  67  38  50  49\n",
       "2  40   5  80   5  42  18  64\n",
       "3  95   1  21  11  68  61  24\n",
       "4  14  29  72  68  35  53  24\n",
       "5   0  37  40  15  23  29  51\n",
       "6  26  92  58  26  96  57  91\n",
       "7  25  82  33  36  80  33  83\n",
       "8  21  87  19  10  31  60  68\n",
       "9  59  34  69   7  44  86  81"
      ]
     },
     "execution_count": 13,
     "metadata": {},
     "output_type": "execute_result"
    }
   ],
   "source": [
    "df_"
   ]
  },
  {
   "cell_type": "code",
   "execution_count": 14,
   "id": "49f5f48b",
   "metadata": {
    "execution": {
     "iopub.execute_input": "2023-03-10T14:53:52.975641Z",
     "iopub.status.busy": "2023-03-10T14:53:52.975180Z",
     "iopub.status.idle": "2023-03-10T14:53:53.009893Z",
     "shell.execute_reply": "2023-03-10T14:53:53.008654Z"
    },
    "papermill": {
     "duration": 0.05881,
     "end_time": "2023-03-10T14:53:53.012451",
     "exception": false,
     "start_time": "2023-03-10T14:53:52.953641",
     "status": "completed"
    },
    "tags": []
   },
   "outputs": [
    {
     "data": {
      "text/html": [
       "<div>\n",
       "<style scoped>\n",
       "    .dataframe tbody tr th:only-of-type {\n",
       "        vertical-align: middle;\n",
       "    }\n",
       "\n",
       "    .dataframe tbody tr th {\n",
       "        vertical-align: top;\n",
       "    }\n",
       "\n",
       "    .dataframe thead th {\n",
       "        text-align: right;\n",
       "    }\n",
       "</style>\n",
       "<table border=\"1\" class=\"dataframe\">\n",
       "  <thead>\n",
       "    <tr style=\"text-align: right;\">\n",
       "      <th></th>\n",
       "      <th>A</th>\n",
       "      <th>B</th>\n",
       "      <th>C</th>\n",
       "      <th>D</th>\n",
       "      <th>E</th>\n",
       "      <th>F</th>\n",
       "      <th>G</th>\n",
       "      <th>longitude</th>\n",
       "      <th>latitude</th>\n",
       "      <th>housing_median_age</th>\n",
       "      <th>total_rooms</th>\n",
       "      <th>total_bedrooms</th>\n",
       "      <th>population</th>\n",
       "      <th>households</th>\n",
       "      <th>median_income</th>\n",
       "      <th>median_house_value</th>\n",
       "    </tr>\n",
       "  </thead>\n",
       "  <tbody>\n",
       "    <tr>\n",
       "      <th>0</th>\n",
       "      <td>34.0</td>\n",
       "      <td>48.0</td>\n",
       "      <td>92.0</td>\n",
       "      <td>97.0</td>\n",
       "      <td>58.0</td>\n",
       "      <td>91.0</td>\n",
       "      <td>43.0</td>\n",
       "      <td>NaN</td>\n",
       "      <td>NaN</td>\n",
       "      <td>NaN</td>\n",
       "      <td>NaN</td>\n",
       "      <td>NaN</td>\n",
       "      <td>NaN</td>\n",
       "      <td>NaN</td>\n",
       "      <td>NaN</td>\n",
       "      <td>NaN</td>\n",
       "    </tr>\n",
       "    <tr>\n",
       "      <th>1</th>\n",
       "      <td>64.0</td>\n",
       "      <td>67.0</td>\n",
       "      <td>61.0</td>\n",
       "      <td>67.0</td>\n",
       "      <td>38.0</td>\n",
       "      <td>50.0</td>\n",
       "      <td>49.0</td>\n",
       "      <td>NaN</td>\n",
       "      <td>NaN</td>\n",
       "      <td>NaN</td>\n",
       "      <td>NaN</td>\n",
       "      <td>NaN</td>\n",
       "      <td>NaN</td>\n",
       "      <td>NaN</td>\n",
       "      <td>NaN</td>\n",
       "      <td>NaN</td>\n",
       "    </tr>\n",
       "    <tr>\n",
       "      <th>2</th>\n",
       "      <td>40.0</td>\n",
       "      <td>5.0</td>\n",
       "      <td>80.0</td>\n",
       "      <td>5.0</td>\n",
       "      <td>42.0</td>\n",
       "      <td>18.0</td>\n",
       "      <td>64.0</td>\n",
       "      <td>NaN</td>\n",
       "      <td>NaN</td>\n",
       "      <td>NaN</td>\n",
       "      <td>NaN</td>\n",
       "      <td>NaN</td>\n",
       "      <td>NaN</td>\n",
       "      <td>NaN</td>\n",
       "      <td>NaN</td>\n",
       "      <td>NaN</td>\n",
       "    </tr>\n",
       "    <tr>\n",
       "      <th>2</th>\n",
       "      <td>NaN</td>\n",
       "      <td>NaN</td>\n",
       "      <td>NaN</td>\n",
       "      <td>NaN</td>\n",
       "      <td>NaN</td>\n",
       "      <td>NaN</td>\n",
       "      <td>NaN</td>\n",
       "      <td>-114.56</td>\n",
       "      <td>33.69</td>\n",
       "      <td>17.0</td>\n",
       "      <td>720.0</td>\n",
       "      <td>174.0</td>\n",
       "      <td>333.0</td>\n",
       "      <td>117.0</td>\n",
       "      <td>1.6509</td>\n",
       "      <td>85700.0</td>\n",
       "    </tr>\n",
       "    <tr>\n",
       "      <th>2</th>\n",
       "      <td>NaN</td>\n",
       "      <td>NaN</td>\n",
       "      <td>NaN</td>\n",
       "      <td>NaN</td>\n",
       "      <td>NaN</td>\n",
       "      <td>NaN</td>\n",
       "      <td>NaN</td>\n",
       "      <td>-114.56</td>\n",
       "      <td>33.69</td>\n",
       "      <td>17.0</td>\n",
       "      <td>720.0</td>\n",
       "      <td>174.0</td>\n",
       "      <td>333.0</td>\n",
       "      <td>117.0</td>\n",
       "      <td>1.6509</td>\n",
       "      <td>85700.0</td>\n",
       "    </tr>\n",
       "    <tr>\n",
       "      <th>...</th>\n",
       "      <td>...</td>\n",
       "      <td>...</td>\n",
       "      <td>...</td>\n",
       "      <td>...</td>\n",
       "      <td>...</td>\n",
       "      <td>...</td>\n",
       "      <td>...</td>\n",
       "      <td>...</td>\n",
       "      <td>...</td>\n",
       "      <td>...</td>\n",
       "      <td>...</td>\n",
       "      <td>...</td>\n",
       "      <td>...</td>\n",
       "      <td>...</td>\n",
       "      <td>...</td>\n",
       "      <td>...</td>\n",
       "    </tr>\n",
       "    <tr>\n",
       "      <th>16976</th>\n",
       "      <td>NaN</td>\n",
       "      <td>NaN</td>\n",
       "      <td>NaN</td>\n",
       "      <td>NaN</td>\n",
       "      <td>NaN</td>\n",
       "      <td>NaN</td>\n",
       "      <td>NaN</td>\n",
       "      <td>-124.17</td>\n",
       "      <td>40.75</td>\n",
       "      <td>13.0</td>\n",
       "      <td>2171.0</td>\n",
       "      <td>339.0</td>\n",
       "      <td>951.0</td>\n",
       "      <td>353.0</td>\n",
       "      <td>4.8516</td>\n",
       "      <td>116100.0</td>\n",
       "    </tr>\n",
       "    <tr>\n",
       "      <th>16978</th>\n",
       "      <td>NaN</td>\n",
       "      <td>NaN</td>\n",
       "      <td>NaN</td>\n",
       "      <td>NaN</td>\n",
       "      <td>NaN</td>\n",
       "      <td>NaN</td>\n",
       "      <td>NaN</td>\n",
       "      <td>-124.18</td>\n",
       "      <td>40.79</td>\n",
       "      <td>39.0</td>\n",
       "      <td>1836.0</td>\n",
       "      <td>352.0</td>\n",
       "      <td>883.0</td>\n",
       "      <td>337.0</td>\n",
       "      <td>1.7450</td>\n",
       "      <td>70500.0</td>\n",
       "    </tr>\n",
       "    <tr>\n",
       "      <th>16978</th>\n",
       "      <td>NaN</td>\n",
       "      <td>NaN</td>\n",
       "      <td>NaN</td>\n",
       "      <td>NaN</td>\n",
       "      <td>NaN</td>\n",
       "      <td>NaN</td>\n",
       "      <td>NaN</td>\n",
       "      <td>-124.18</td>\n",
       "      <td>40.79</td>\n",
       "      <td>39.0</td>\n",
       "      <td>1836.0</td>\n",
       "      <td>352.0</td>\n",
       "      <td>883.0</td>\n",
       "      <td>337.0</td>\n",
       "      <td>1.7450</td>\n",
       "      <td>70500.0</td>\n",
       "    </tr>\n",
       "    <tr>\n",
       "      <th>16981</th>\n",
       "      <td>NaN</td>\n",
       "      <td>NaN</td>\n",
       "      <td>NaN</td>\n",
       "      <td>NaN</td>\n",
       "      <td>NaN</td>\n",
       "      <td>NaN</td>\n",
       "      <td>NaN</td>\n",
       "      <td>-124.18</td>\n",
       "      <td>40.78</td>\n",
       "      <td>33.0</td>\n",
       "      <td>1076.0</td>\n",
       "      <td>222.0</td>\n",
       "      <td>656.0</td>\n",
       "      <td>236.0</td>\n",
       "      <td>2.5096</td>\n",
       "      <td>72200.0</td>\n",
       "    </tr>\n",
       "    <tr>\n",
       "      <th>16981</th>\n",
       "      <td>NaN</td>\n",
       "      <td>NaN</td>\n",
       "      <td>NaN</td>\n",
       "      <td>NaN</td>\n",
       "      <td>NaN</td>\n",
       "      <td>NaN</td>\n",
       "      <td>NaN</td>\n",
       "      <td>-124.18</td>\n",
       "      <td>40.78</td>\n",
       "      <td>33.0</td>\n",
       "      <td>1076.0</td>\n",
       "      <td>222.0</td>\n",
       "      <td>656.0</td>\n",
       "      <td>236.0</td>\n",
       "      <td>2.5096</td>\n",
       "      <td>72200.0</td>\n",
       "    </tr>\n",
       "  </tbody>\n",
       "</table>\n",
       "<p>6810 rows × 16 columns</p>\n",
       "</div>"
      ],
      "text/plain": [
       "          A     B     C     D     E     F     G  longitude  latitude  \\\n",
       "0      34.0  48.0  92.0  97.0  58.0  91.0  43.0        NaN       NaN   \n",
       "1      64.0  67.0  61.0  67.0  38.0  50.0  49.0        NaN       NaN   \n",
       "2      40.0   5.0  80.0   5.0  42.0  18.0  64.0        NaN       NaN   \n",
       "2       NaN   NaN   NaN   NaN   NaN   NaN   NaN    -114.56     33.69   \n",
       "2       NaN   NaN   NaN   NaN   NaN   NaN   NaN    -114.56     33.69   \n",
       "...     ...   ...   ...   ...   ...   ...   ...        ...       ...   \n",
       "16976   NaN   NaN   NaN   NaN   NaN   NaN   NaN    -124.17     40.75   \n",
       "16978   NaN   NaN   NaN   NaN   NaN   NaN   NaN    -124.18     40.79   \n",
       "16978   NaN   NaN   NaN   NaN   NaN   NaN   NaN    -124.18     40.79   \n",
       "16981   NaN   NaN   NaN   NaN   NaN   NaN   NaN    -124.18     40.78   \n",
       "16981   NaN   NaN   NaN   NaN   NaN   NaN   NaN    -124.18     40.78   \n",
       "\n",
       "       housing_median_age  total_rooms  total_bedrooms  population  \\\n",
       "0                     NaN          NaN             NaN         NaN   \n",
       "1                     NaN          NaN             NaN         NaN   \n",
       "2                     NaN          NaN             NaN         NaN   \n",
       "2                    17.0        720.0           174.0       333.0   \n",
       "2                    17.0        720.0           174.0       333.0   \n",
       "...                   ...          ...             ...         ...   \n",
       "16976                13.0       2171.0           339.0       951.0   \n",
       "16978                39.0       1836.0           352.0       883.0   \n",
       "16978                39.0       1836.0           352.0       883.0   \n",
       "16981                33.0       1076.0           222.0       656.0   \n",
       "16981                33.0       1076.0           222.0       656.0   \n",
       "\n",
       "       households  median_income  median_house_value  \n",
       "0             NaN            NaN                 NaN  \n",
       "1             NaN            NaN                 NaN  \n",
       "2             NaN            NaN                 NaN  \n",
       "2           117.0         1.6509             85700.0  \n",
       "2           117.0         1.6509             85700.0  \n",
       "...           ...            ...                 ...  \n",
       "16976       353.0         4.8516            116100.0  \n",
       "16978       337.0         1.7450             70500.0  \n",
       "16978       337.0         1.7450             70500.0  \n",
       "16981       236.0         2.5096             72200.0  \n",
       "16981       236.0         2.5096             72200.0  \n",
       "\n",
       "[6810 rows x 16 columns]"
      ]
     },
     "execution_count": 14,
     "metadata": {},
     "output_type": "execute_result"
    }
   ],
   "source": [
    "x"
   ]
  },
  {
   "cell_type": "code",
   "execution_count": 15,
   "id": "733e75c0",
   "metadata": {
    "execution": {
     "iopub.execute_input": "2023-03-10T14:53:53.054980Z",
     "iopub.status.busy": "2023-03-10T14:53:53.053652Z",
     "iopub.status.idle": "2023-03-10T14:53:53.079205Z",
     "shell.execute_reply": "2023-03-10T14:53:53.078043Z"
    },
    "papermill": {
     "duration": 0.049399,
     "end_time": "2023-03-10T14:53:53.081749",
     "exception": false,
     "start_time": "2023-03-10T14:53:53.032350",
     "status": "completed"
    },
    "tags": []
   },
   "outputs": [
    {
     "data": {
      "text/html": [
       "<div>\n",
       "<style scoped>\n",
       "    .dataframe tbody tr th:only-of-type {\n",
       "        vertical-align: middle;\n",
       "    }\n",
       "\n",
       "    .dataframe tbody tr th {\n",
       "        vertical-align: top;\n",
       "    }\n",
       "\n",
       "    .dataframe thead th {\n",
       "        text-align: right;\n",
       "    }\n",
       "</style>\n",
       "<table border=\"1\" class=\"dataframe\">\n",
       "  <thead>\n",
       "    <tr style=\"text-align: right;\">\n",
       "      <th></th>\n",
       "      <th>longitude</th>\n",
       "      <th>latitude</th>\n",
       "      <th>housing_median_age</th>\n",
       "      <th>total_rooms</th>\n",
       "      <th>total_bedrooms</th>\n",
       "      <th>population</th>\n",
       "      <th>households</th>\n",
       "      <th>median_income</th>\n",
       "      <th>median_house_value</th>\n",
       "    </tr>\n",
       "  </thead>\n",
       "  <tbody>\n",
       "    <tr>\n",
       "      <th>8779</th>\n",
       "      <td>-118.61</td>\n",
       "      <td>34.16</td>\n",
       "      <td>29.0</td>\n",
       "      <td>4364.0</td>\n",
       "      <td>647.0</td>\n",
       "      <td>1550.0</td>\n",
       "      <td>624.0</td>\n",
       "      <td>6.8107</td>\n",
       "      <td>367400.0</td>\n",
       "    </tr>\n",
       "    <tr>\n",
       "      <th>13720</th>\n",
       "      <td>-122.00</td>\n",
       "      <td>37.58</td>\n",
       "      <td>6.0</td>\n",
       "      <td>4405.0</td>\n",
       "      <td>717.0</td>\n",
       "      <td>2071.0</td>\n",
       "      <td>688.0</td>\n",
       "      <td>5.8151</td>\n",
       "      <td>295600.0</td>\n",
       "    </tr>\n",
       "    <tr>\n",
       "      <th>8203</th>\n",
       "      <td>-118.44</td>\n",
       "      <td>34.22</td>\n",
       "      <td>36.0</td>\n",
       "      <td>1191.0</td>\n",
       "      <td>266.0</td>\n",
       "      <td>718.0</td>\n",
       "      <td>248.0</td>\n",
       "      <td>3.4612</td>\n",
       "      <td>178800.0</td>\n",
       "    </tr>\n",
       "    <tr>\n",
       "      <th>13076</th>\n",
       "      <td>-121.87</td>\n",
       "      <td>37.30</td>\n",
       "      <td>28.0</td>\n",
       "      <td>859.0</td>\n",
       "      <td>199.0</td>\n",
       "      <td>455.0</td>\n",
       "      <td>211.0</td>\n",
       "      <td>2.3293</td>\n",
       "      <td>215900.0</td>\n",
       "    </tr>\n",
       "    <tr>\n",
       "      <th>15689</th>\n",
       "      <td>-122.39</td>\n",
       "      <td>40.59</td>\n",
       "      <td>26.0</td>\n",
       "      <td>1279.0</td>\n",
       "      <td>438.0</td>\n",
       "      <td>1276.0</td>\n",
       "      <td>420.0</td>\n",
       "      <td>1.2404</td>\n",
       "      <td>81300.0</td>\n",
       "    </tr>\n",
       "    <tr>\n",
       "      <th>...</th>\n",
       "      <td>...</td>\n",
       "      <td>...</td>\n",
       "      <td>...</td>\n",
       "      <td>...</td>\n",
       "      <td>...</td>\n",
       "      <td>...</td>\n",
       "      <td>...</td>\n",
       "      <td>...</td>\n",
       "      <td>...</td>\n",
       "    </tr>\n",
       "    <tr>\n",
       "      <th>7181</th>\n",
       "      <td>-118.33</td>\n",
       "      <td>34.15</td>\n",
       "      <td>44.0</td>\n",
       "      <td>1321.0</td>\n",
       "      <td>303.0</td>\n",
       "      <td>471.0</td>\n",
       "      <td>301.0</td>\n",
       "      <td>4.2679</td>\n",
       "      <td>331800.0</td>\n",
       "    </tr>\n",
       "    <tr>\n",
       "      <th>11665</th>\n",
       "      <td>-121.30</td>\n",
       "      <td>38.74</td>\n",
       "      <td>41.0</td>\n",
       "      <td>4374.0</td>\n",
       "      <td>1039.0</td>\n",
       "      <td>2387.0</td>\n",
       "      <td>959.0</td>\n",
       "      <td>2.3611</td>\n",
       "      <td>87900.0</td>\n",
       "    </tr>\n",
       "    <tr>\n",
       "      <th>9752</th>\n",
       "      <td>-119.65</td>\n",
       "      <td>36.35</td>\n",
       "      <td>21.0</td>\n",
       "      <td>1745.0</td>\n",
       "      <td>266.0</td>\n",
       "      <td>837.0</td>\n",
       "      <td>292.0</td>\n",
       "      <td>4.3911</td>\n",
       "      <td>107900.0</td>\n",
       "    </tr>\n",
       "    <tr>\n",
       "      <th>6423</th>\n",
       "      <td>-118.26</td>\n",
       "      <td>33.82</td>\n",
       "      <td>28.0</td>\n",
       "      <td>5091.0</td>\n",
       "      <td>1074.0</td>\n",
       "      <td>4753.0</td>\n",
       "      <td>1033.0</td>\n",
       "      <td>3.6477</td>\n",
       "      <td>117400.0</td>\n",
       "    </tr>\n",
       "    <tr>\n",
       "      <th>7819</th>\n",
       "      <td>-118.39</td>\n",
       "      <td>34.02</td>\n",
       "      <td>38.0</td>\n",
       "      <td>2521.0</td>\n",
       "      <td>647.0</td>\n",
       "      <td>1091.0</td>\n",
       "      <td>597.0</td>\n",
       "      <td>4.1296</td>\n",
       "      <td>322900.0</td>\n",
       "    </tr>\n",
       "  </tbody>\n",
       "</table>\n",
       "<p>3400 rows × 9 columns</p>\n",
       "</div>"
      ],
      "text/plain": [
       "       longitude  latitude  housing_median_age  total_rooms  total_bedrooms  \\\n",
       "8779     -118.61     34.16                29.0       4364.0           647.0   \n",
       "13720    -122.00     37.58                 6.0       4405.0           717.0   \n",
       "8203     -118.44     34.22                36.0       1191.0           266.0   \n",
       "13076    -121.87     37.30                28.0        859.0           199.0   \n",
       "15689    -122.39     40.59                26.0       1279.0           438.0   \n",
       "...          ...       ...                 ...          ...             ...   \n",
       "7181     -118.33     34.15                44.0       1321.0           303.0   \n",
       "11665    -121.30     38.74                41.0       4374.0          1039.0   \n",
       "9752     -119.65     36.35                21.0       1745.0           266.0   \n",
       "6423     -118.26     33.82                28.0       5091.0          1074.0   \n",
       "7819     -118.39     34.02                38.0       2521.0           647.0   \n",
       "\n",
       "       population  households  median_income  median_house_value  \n",
       "8779       1550.0       624.0         6.8107            367400.0  \n",
       "13720      2071.0       688.0         5.8151            295600.0  \n",
       "8203        718.0       248.0         3.4612            178800.0  \n",
       "13076       455.0       211.0         2.3293            215900.0  \n",
       "15689      1276.0       420.0         1.2404             81300.0  \n",
       "...           ...         ...            ...                 ...  \n",
       "7181        471.0       301.0         4.2679            331800.0  \n",
       "11665      2387.0       959.0         2.3611             87900.0  \n",
       "9752        837.0       292.0         4.3911            107900.0  \n",
       "6423       4753.0      1033.0         3.6477            117400.0  \n",
       "7819       1091.0       597.0         4.1296            322900.0  \n",
       "\n",
       "[3400 rows x 9 columns]"
      ]
     },
     "execution_count": 15,
     "metadata": {},
     "output_type": "execute_result"
    }
   ],
   "source": [
    "Sample_df_"
   ]
  },
  {
   "cell_type": "markdown",
   "id": "a84a5fd1",
   "metadata": {
    "papermill": {
     "duration": 0.019819,
     "end_time": "2023-03-10T14:53:53.122739",
     "exception": false,
     "start_time": "2023-03-10T14:53:53.102920",
     "status": "completed"
    },
    "tags": []
   },
   "source": [
    "**Fin Laboratorio 1**"
   ]
  },
  {
   "cell_type": "markdown",
   "id": "a0bd48ba",
   "metadata": {
    "execution": {
     "iopub.execute_input": "2023-03-09T19:59:58.112354Z",
     "iopub.status.busy": "2023-03-09T19:59:58.111949Z",
     "iopub.status.idle": "2023-03-09T19:59:58.121407Z",
     "shell.execute_reply": "2023-03-09T19:59:58.119902Z",
     "shell.execute_reply.started": "2023-03-09T19:59:58.112320Z"
    },
    "papermill": {
     "duration": 0.02037,
     "end_time": "2023-03-10T14:53:53.163112",
     "exception": false,
     "start_time": "2023-03-10T14:53:53.142742",
     "status": "completed"
    },
    "tags": []
   },
   "source": [
    "# Realiza un histograma de cada uno de los campos y compara los dos data frames creados en el paso anterior."
   ]
  },
  {
   "cell_type": "markdown",
   "id": "c5f929a6",
   "metadata": {
    "papermill": {
     "duration": 0.019525,
     "end_time": "2023-03-10T14:53:53.202761",
     "exception": false,
     "start_time": "2023-03-10T14:53:53.183236",
     "status": "completed"
    },
    "tags": []
   },
   "source": [
    "En este caso he dividido los plots de 3 en 3 para los tres data frame"
   ]
  },
  {
   "cell_type": "markdown",
   "id": "94413d79",
   "metadata": {
    "papermill": {
     "duration": 0.020496,
     "end_time": "2023-03-10T14:53:53.243754",
     "exception": false,
     "start_time": "2023-03-10T14:53:53.223258",
     "status": "completed"
    },
    "tags": []
   },
   "source": [
    "Para el data frame original"
   ]
  },
  {
   "cell_type": "code",
   "execution_count": 16,
   "id": "2187bfc3",
   "metadata": {
    "execution": {
     "iopub.execute_input": "2023-03-10T14:53:53.288945Z",
     "iopub.status.busy": "2023-03-10T14:53:53.287645Z",
     "iopub.status.idle": "2023-03-10T14:53:53.852231Z",
     "shell.execute_reply": "2023-03-10T14:53:53.850356Z"
    },
    "papermill": {
     "duration": 0.590938,
     "end_time": "2023-03-10T14:53:53.855295",
     "exception": false,
     "start_time": "2023-03-10T14:53:53.264357",
     "status": "completed"
    },
    "tags": []
   },
   "outputs": [
    {
     "data": {
      "text/plain": [
       "array([<AxesSubplot:title={'center':'longitude'}>,\n",
       "       <AxesSubplot:title={'center':'latitude'}>,\n",
       "       <AxesSubplot:title={'center':'housing_median_age'}>], dtype=object)"
      ]
     },
     "execution_count": 16,
     "metadata": {},
     "output_type": "execute_result"
    },
    {
     "data": {
      "image/png": "[encoded data removed]",
      "text/plain": [
       "<Figure size 640x480 with 3 Axes>"
      ]
     },
     "metadata": {},
     "output_type": "display_data"
    }
   ],
   "source": [
    "\n",
    "fig, axis = plt.subplots(1, 3)\n",
    "\n",
    "\n",
    "Data_housing_train.iloc[:, 0:3].hist(ax=axis)"
   ]
  },
  {
   "cell_type": "code",
   "execution_count": 17,
   "id": "96545937",
   "metadata": {
    "execution": {
     "iopub.execute_input": "2023-03-10T14:53:53.901293Z",
     "iopub.status.busy": "2023-03-10T14:53:53.900752Z",
     "iopub.status.idle": "2023-03-10T14:53:54.517618Z",
     "shell.execute_reply": "2023-03-10T14:53:54.516297Z"
    },
    "papermill": {
     "duration": 0.642937,
     "end_time": "2023-03-10T14:53:54.520841",
     "exception": false,
     "start_time": "2023-03-10T14:53:53.877904",
     "status": "completed"
    },
    "tags": []
   },
   "outputs": [
    {
     "name": "stderr",
     "output_type": "stream",
     "text": [
      "/opt/conda/lib/python3.7/site-packages/ipykernel_launcher.py:4: UserWarning: To output multiple subplots, the figure containing the passed axes is being cleared\n",
      "  after removing the cwd from sys.path.\n"
     ]
    },
    {
     "data": {
      "text/plain": [
       "array([[<AxesSubplot:title={'center':'total_rooms'}>,\n",
       "        <AxesSubplot:title={'center':'total_bedrooms'}>],\n",
       "       [<AxesSubplot:title={'center':'population'}>, <AxesSubplot:>]],\n",
       "      dtype=object)"
      ]
     },
     "execution_count": 17,
     "metadata": {},
     "output_type": "execute_result"
    },
    {
     "data": {
      "image/png": "[encoded data removed]",
      "text/plain": [
       "<Figure size 640x480 with 4 Axes>"
      ]
     },
     "metadata": {},
     "output_type": "display_data"
    }
   ],
   "source": [
    "fig, axis = plt.subplots(1, 1)\n",
    "\n",
    "\n",
    "Data_housing_train.iloc[:, 3:6].hist(ax=axis)"
   ]
  },
  {
   "cell_type": "code",
   "execution_count": 18,
   "id": "58bbd50e",
   "metadata": {
    "execution": {
     "iopub.execute_input": "2023-03-10T14:53:54.568692Z",
     "iopub.status.busy": "2023-03-10T14:53:54.568014Z",
     "iopub.status.idle": "2023-03-10T14:53:55.095976Z",
     "shell.execute_reply": "2023-03-10T14:53:55.094735Z"
    },
    "papermill": {
     "duration": 0.555041,
     "end_time": "2023-03-10T14:53:55.098749",
     "exception": false,
     "start_time": "2023-03-10T14:53:54.543708",
     "status": "completed"
    },
    "tags": []
   },
   "outputs": [
    {
     "name": "stderr",
     "output_type": "stream",
     "text": [
      "/opt/conda/lib/python3.7/site-packages/ipykernel_launcher.py:4: UserWarning: To output multiple subplots, the figure containing the passed axes is being cleared\n",
      "  after removing the cwd from sys.path.\n"
     ]
    },
    {
     "data": {
      "text/plain": [
       "array([[<AxesSubplot:title={'center':'households'}>,\n",
       "        <AxesSubplot:title={'center':'median_income'}>],\n",
       "       [<AxesSubplot:title={'center':'median_house_value'}>,\n",
       "        <AxesSubplot:>]], dtype=object)"
      ]
     },
     "execution_count": 18,
     "metadata": {},
     "output_type": "execute_result"
    },
    {
     "data": {
      "image/png": "[encoded data removed]",
      "text/plain": [
       "<Figure size 640x480 with 4 Axes>"
      ]
     },
     "metadata": {},
     "output_type": "display_data"
    }
   ],
   "source": [
    "fig, axis = plt.subplots(1, 1)\n",
    "\n",
    "\n",
    "Data_housing_train.iloc[:, 6:9].hist(ax=axis)"
   ]
  },
  {
   "cell_type": "markdown",
   "id": "361349d6",
   "metadata": {
    "papermill": {
     "duration": 0.021609,
     "end_time": "2023-03-10T14:53:55.142356",
     "exception": false,
     "start_time": "2023-03-10T14:53:55.120747",
     "status": "completed"
    },
    "tags": []
   },
   "source": [
    "Para el data frame de muestra del 20%"
   ]
  },
  {
   "cell_type": "code",
   "execution_count": 19,
   "id": "9f398fe1",
   "metadata": {
    "execution": {
     "iopub.execute_input": "2023-03-10T14:53:55.187746Z",
     "iopub.status.busy": "2023-03-10T14:53:55.187347Z",
     "iopub.status.idle": "2023-03-10T14:53:55.678757Z",
     "shell.execute_reply": "2023-03-10T14:53:55.677695Z"
    },
    "papermill": {
     "duration": 0.517512,
     "end_time": "2023-03-10T14:53:55.681691",
     "exception": false,
     "start_time": "2023-03-10T14:53:55.164179",
     "status": "completed"
    },
    "tags": []
   },
   "outputs": [
    {
     "data": {
      "text/plain": [
       "array([<AxesSubplot:title={'center':'longitude'}>,\n",
       "       <AxesSubplot:title={'center':'latitude'}>,\n",
       "       <AxesSubplot:title={'center':'housing_median_age'}>], dtype=object)"
      ]
     },
     "execution_count": 19,
     "metadata": {},
     "output_type": "execute_result"
    },
    {
     "data": {
      "image/png": "[encoded data removed]",
      "text/plain": [
       "<Figure size 640x480 with 3 Axes>"
      ]
     },
     "metadata": {},
     "output_type": "display_data"
    }
   ],
   "source": [
    "fig, axis = plt.subplots(1, 3)\n",
    "\n",
    "\n",
    "Sample_Data_housing_train.iloc[:, 0:3].hist(ax=axis)"
   ]
  },
  {
   "cell_type": "code",
   "execution_count": 20,
   "id": "b4412418",
   "metadata": {
    "execution": {
     "iopub.execute_input": "2023-03-10T14:53:55.730341Z",
     "iopub.status.busy": "2023-03-10T14:53:55.729187Z",
     "iopub.status.idle": "2023-03-10T14:53:56.210746Z",
     "shell.execute_reply": "2023-03-10T14:53:56.209565Z"
    },
    "papermill": {
     "duration": 0.508886,
     "end_time": "2023-03-10T14:53:56.213648",
     "exception": false,
     "start_time": "2023-03-10T14:53:55.704762",
     "status": "completed"
    },
    "tags": []
   },
   "outputs": [
    {
     "data": {
      "text/plain": [
       "array([<AxesSubplot:title={'center':'total_rooms'}>,\n",
       "       <AxesSubplot:title={'center':'total_bedrooms'}>,\n",
       "       <AxesSubplot:title={'center':'population'}>], dtype=object)"
      ]
     },
     "execution_count": 20,
     "metadata": {},
     "output_type": "execute_result"
    },
    {
     "data": {
      "image/png": "[encoded data removed]",
      "text/plain": [
       "<Figure size 640x480 with 3 Axes>"
      ]
     },
     "metadata": {},
     "output_type": "display_data"
    }
   ],
   "source": [
    "fig, axis = plt.subplots(1, 3)\n",
    "\n",
    "\n",
    "Sample_Data_housing_train.iloc[:, 3:6].hist(ax=axis)"
   ]
  },
  {
   "cell_type": "code",
   "execution_count": 21,
   "id": "029868a8",
   "metadata": {
    "execution": {
     "iopub.execute_input": "2023-03-10T14:53:56.264723Z",
     "iopub.status.busy": "2023-03-10T14:53:56.263066Z",
     "iopub.status.idle": "2023-03-10T14:53:56.767888Z",
     "shell.execute_reply": "2023-03-10T14:53:56.766638Z"
    },
    "papermill": {
     "duration": 0.532207,
     "end_time": "2023-03-10T14:53:56.770470",
     "exception": false,
     "start_time": "2023-03-10T14:53:56.238263",
     "status": "completed"
    },
    "tags": []
   },
   "outputs": [
    {
     "data": {
      "text/plain": [
       "array([<AxesSubplot:title={'center':'households'}>,\n",
       "       <AxesSubplot:title={'center':'median_income'}>,\n",
       "       <AxesSubplot:title={'center':'median_house_value'}>], dtype=object)"
      ]
     },
     "execution_count": 21,
     "metadata": {},
     "output_type": "execute_result"
    },
    {
     "data": {
      "image/png": "[encoded data removed]",
      "text/plain": [
       "<Figure size 640x480 with 3 Axes>"
      ]
     },
     "metadata": {},
     "output_type": "display_data"
    }
   ],
   "source": [
    "fig, axis = plt.subplots(1, 3)\n",
    "\n",
    "\n",
    "Sample_Data_housing_train.iloc[:, 6:9].hist(ax=axis)"
   ]
  },
  {
   "cell_type": "markdown",
   "id": "753e9e7c",
   "metadata": {
    "papermill": {
     "duration": 0.025735,
     "end_time": "2023-03-10T14:53:56.820800",
     "exception": false,
     "start_time": "2023-03-10T14:53:56.795065",
     "status": "completed"
    },
    "tags": []
   },
   "source": [
    "Para el data frame del resto del 80% del muestreo"
   ]
  },
  {
   "cell_type": "code",
   "execution_count": 22,
   "id": "f1fbf1ba",
   "metadata": {
    "execution": {
     "iopub.execute_input": "2023-03-10T14:53:56.871766Z",
     "iopub.status.busy": "2023-03-10T14:53:56.871347Z",
     "iopub.status.idle": "2023-03-10T14:53:57.291284Z",
     "shell.execute_reply": "2023-03-10T14:53:57.289886Z"
    },
    "papermill": {
     "duration": 0.448079,
     "end_time": "2023-03-10T14:53:57.293777",
     "exception": false,
     "start_time": "2023-03-10T14:53:56.845698",
     "status": "completed"
    },
    "tags": []
   },
   "outputs": [
    {
     "data": {
      "text/plain": [
       "array([<AxesSubplot:title={'center':'longitude'}>,\n",
       "       <AxesSubplot:title={'center':'latitude'}>,\n",
       "       <AxesSubplot:title={'center':'housing_median_age'}>], dtype=object)"
      ]
     },
     "execution_count": 22,
     "metadata": {},
     "output_type": "execute_result"
    },
    {
     "data": {
      "image/png": "[encoded data removed]",
      "text/plain": [
       "<Figure size 640x480 with 3 Axes>"
      ]
     },
     "metadata": {},
     "output_type": "display_data"
    }
   ],
   "source": [
    "fig, axis = plt.subplots(1, 3)\n",
    "\n",
    "\n",
    "Rest_Sample_Data_housing_train.iloc[:, 0:3].hist(ax=axis)"
   ]
  },
  {
   "cell_type": "code",
   "execution_count": 23,
   "id": "33c0e82e",
   "metadata": {
    "execution": {
     "iopub.execute_input": "2023-03-10T14:53:57.345442Z",
     "iopub.status.busy": "2023-03-10T14:53:57.344759Z",
     "iopub.status.idle": "2023-03-10T14:53:57.875886Z",
     "shell.execute_reply": "2023-03-10T14:53:57.874577Z"
    },
    "papermill": {
     "duration": 0.560412,
     "end_time": "2023-03-10T14:53:57.878858",
     "exception": false,
     "start_time": "2023-03-10T14:53:57.318446",
     "status": "completed"
    },
    "tags": []
   },
   "outputs": [
    {
     "data": {
      "text/plain": [
       "array([<AxesSubplot:title={'center':'total_rooms'}>,\n",
       "       <AxesSubplot:title={'center':'total_bedrooms'}>,\n",
       "       <AxesSubplot:title={'center':'population'}>], dtype=object)"
      ]
     },
     "execution_count": 23,
     "metadata": {},
     "output_type": "execute_result"
    },
    {
     "data": {
      "image/png": "[encoded data removed]",
      "text/plain": [
       "<Figure size 640x480 with 3 Axes>"
      ]
     },
     "metadata": {},
     "output_type": "display_data"
    }
   ],
   "source": [
    "fig, axis = plt.subplots(1, 3)\n",
    "\n",
    "\n",
    "Rest_Sample_Data_housing_train.iloc[:, 3:6].hist(ax=axis)"
   ]
  },
  {
   "cell_type": "code",
   "execution_count": 24,
   "id": "4f29bb0b",
   "metadata": {
    "execution": {
     "iopub.execute_input": "2023-03-10T14:53:57.935170Z",
     "iopub.status.busy": "2023-03-10T14:53:57.934037Z",
     "iopub.status.idle": "2023-03-10T14:53:58.349124Z",
     "shell.execute_reply": "2023-03-10T14:53:58.347894Z"
    },
    "papermill": {
     "duration": 0.44631,
     "end_time": "2023-03-10T14:53:58.351639",
     "exception": false,
     "start_time": "2023-03-10T14:53:57.905329",
     "status": "completed"
    },
    "tags": []
   },
   "outputs": [
    {
     "data": {
      "text/plain": [
       "array([<AxesSubplot:title={'center':'households'}>,\n",
       "       <AxesSubplot:title={'center':'median_income'}>,\n",
       "       <AxesSubplot:title={'center':'median_house_value'}>], dtype=object)"
      ]
     },
     "execution_count": 24,
     "metadata": {},
     "output_type": "execute_result"
    },
    {
     "data": {
      "image/png": "[encoded data removed]",
      "text/plain": [
       "<Figure size 640x480 with 3 Axes>"
      ]
     },
     "metadata": {},
     "output_type": "display_data"
    }
   ],
   "source": [
    "fig, axis = plt.subplots(1, 3)\n",
    "\n",
    "\n",
    "Rest_Sample_Data_housing_train.iloc[:, 6:9].hist(ax=axis)"
   ]
  },
  {
   "cell_type": "markdown",
   "id": "fba792d9",
   "metadata": {
    "papermill": {
     "duration": 0.025786,
     "end_time": "2023-03-10T14:53:58.403670",
     "exception": false,
     "start_time": "2023-03-10T14:53:58.377884",
     "status": "completed"
    },
    "tags": []
   },
   "source": [
    "# Partiendo del data frame del primer paso. Obtén el registro que más al norte esté según el número de habitaciones que tenga. Es decir, el registro más al norte entre todos los registros con una sola habitación, el más al norte entre todos los registros de dos habitaciones, y así sucesivamente."
   ]
  },
  {
   "cell_type": "markdown",
   "id": "9512bd08",
   "metadata": {
    "papermill": {
     "duration": 0.026909,
     "end_time": "2023-03-10T14:53:58.458020",
     "exception": false,
     "start_time": "2023-03-10T14:53:58.431111",
     "status": "completed"
    },
    "tags": []
   },
   "source": [
    "He creado una función para hacer eso"
   ]
  },
  {
   "cell_type": "code",
   "execution_count": 25,
   "id": "e962e7d1",
   "metadata": {
    "execution": {
     "iopub.execute_input": "2023-03-10T14:53:58.511361Z",
     "iopub.status.busy": "2023-03-10T14:53:58.510941Z",
     "iopub.status.idle": "2023-03-10T14:53:58.518982Z",
     "shell.execute_reply": "2023-03-10T14:53:58.517641Z"
    },
    "papermill": {
     "duration": 0.037788,
     "end_time": "2023-03-10T14:53:58.521386",
     "exception": false,
     "start_time": "2023-03-10T14:53:58.483598",
     "status": "completed"
    },
    "tags": []
   },
   "outputs": [],
   "source": [
    "def paso_4 (df_entrada):\n",
    "\n",
    "    df_contenedor = pd.DataFrame({'total_rooms': np.arange(17000) , 'latitude': np.arange(17000)})\n",
    "    \n",
    "    df_contenedor = df_contenedor.astype({'total_rooms':'int','latitude':'float64'})\n",
    "    \n",
    "    # primero creo un contenedor para ir metiendo el resultado\n",
    "    \n",
    "    # pongo en latitude float64 porque np.arenge da un dato int y perderia precision\n",
    "    \n",
    "    for i,rooms in enumerate(df_entrada.total_rooms) :\n",
    "    \n",
    "    # for para meter por cada numero de habitacion su maxima latitud\n",
    "    \n",
    "            df_contenedor.total_rooms[i] = rooms #numero de habitacion\n",
    "        \n",
    "            df_contenedor.latitude[i] = df_entrada.loc[df_entrada.total_rooms == rooms].latitude.max()\n",
    "                                                   # dimer los datos que tenga tantas rooms y me miras el maximo de latitud\n",
    "    \n",
    "    return df_contenedor.sort_values(by = [\"total_rooms\"]).drop_duplicates(subset=['total_rooms'])\n",
    "\n",
    "#Le doy un orden para visualizar mejor los datos.\n",
    "\n",
    "#Tambien existen duplicaciones pues rooms recorrera varias veces un mismo numero porque recorre total_rooms\n",
    "# no pongo Keep=false porque quiero coger de 2,2,2,2,2,2 solo un 2 y no quedarme sin la representcion para 2 habitciones"
   ]
  },
  {
   "cell_type": "code",
   "execution_count": 26,
   "id": "fc79d633",
   "metadata": {
    "execution": {
     "iopub.execute_input": "2023-03-10T14:53:58.576658Z",
     "iopub.status.busy": "2023-03-10T14:53:58.576229Z",
     "iopub.status.idle": "2023-03-10T14:54:18.273787Z",
     "shell.execute_reply": "2023-03-10T14:54:18.272543Z"
    },
    "papermill": {
     "duration": 19.728823,
     "end_time": "2023-03-10T14:54:18.276500",
     "exception": false,
     "start_time": "2023-03-10T14:53:58.547677",
     "status": "completed"
    },
    "tags": []
   },
   "outputs": [
    {
     "name": "stderr",
     "output_type": "stream",
     "text": [
      "/opt/conda/lib/python3.7/site-packages/ipykernel_launcher.py:15: SettingWithCopyWarning: \n",
      "A value is trying to be set on a copy of a slice from a DataFrame\n",
      "\n",
      "See the caveats in the documentation: https://pandas.pydata.org/pandas-docs/stable/user_guide/indexing.html#returning-a-view-versus-a-copy\n",
      "  from ipykernel import kernelapp as app\n",
      "/opt/conda/lib/python3.7/site-packages/ipykernel_launcher.py:17: SettingWithCopyWarning: \n",
      "A value is trying to be set on a copy of a slice from a DataFrame\n",
      "\n",
      "See the caveats in the documentation: https://pandas.pydata.org/pandas-docs/stable/user_guide/indexing.html#returning-a-view-versus-a-copy\n",
      "  app.launch_new_instance()\n"
     ]
    },
    {
     "data": {
      "text/html": [
       "<div>\n",
       "<style scoped>\n",
       "    .dataframe tbody tr th:only-of-type {\n",
       "        vertical-align: middle;\n",
       "    }\n",
       "\n",
       "    .dataframe tbody tr th {\n",
       "        vertical-align: top;\n",
       "    }\n",
       "\n",
       "    .dataframe thead th {\n",
       "        text-align: right;\n",
       "    }\n",
       "</style>\n",
       "<table border=\"1\" class=\"dataframe\">\n",
       "  <thead>\n",
       "    <tr style=\"text-align: right;\">\n",
       "      <th></th>\n",
       "      <th>total_rooms</th>\n",
       "      <th>latitude</th>\n",
       "    </tr>\n",
       "  </thead>\n",
       "  <tbody>\n",
       "    <tr>\n",
       "      <th>2990</th>\n",
       "      <td>2</td>\n",
       "      <td>35.21</td>\n",
       "    </tr>\n",
       "    <tr>\n",
       "      <th>16309</th>\n",
       "      <td>8</td>\n",
       "      <td>37.79</td>\n",
       "    </tr>\n",
       "    <tr>\n",
       "      <th>8188</th>\n",
       "      <td>11</td>\n",
       "      <td>34.28</td>\n",
       "    </tr>\n",
       "    <tr>\n",
       "      <th>15369</th>\n",
       "      <td>12</td>\n",
       "      <td>37.81</td>\n",
       "    </tr>\n",
       "    <tr>\n",
       "      <th>15656</th>\n",
       "      <td>15</td>\n",
       "      <td>37.60</td>\n",
       "    </tr>\n",
       "    <tr>\n",
       "      <th>...</th>\n",
       "      <td>...</td>\n",
       "      <td>...</td>\n",
       "    </tr>\n",
       "    <tr>\n",
       "      <th>1116</th>\n",
       "      <td>30401</td>\n",
       "      <td>33.52</td>\n",
       "    </tr>\n",
       "    <tr>\n",
       "      <th>8881</th>\n",
       "      <td>30405</td>\n",
       "      <td>34.16</td>\n",
       "    </tr>\n",
       "    <tr>\n",
       "      <th>2969</th>\n",
       "      <td>32054</td>\n",
       "      <td>34.03</td>\n",
       "    </tr>\n",
       "    <tr>\n",
       "      <th>12772</th>\n",
       "      <td>32627</td>\n",
       "      <td>36.64</td>\n",
       "    </tr>\n",
       "    <tr>\n",
       "      <th>2871</th>\n",
       "      <td>37937</td>\n",
       "      <td>33.89</td>\n",
       "    </tr>\n",
       "  </tbody>\n",
       "</table>\n",
       "<p>5533 rows × 2 columns</p>\n",
       "</div>"
      ],
      "text/plain": [
       "       total_rooms  latitude\n",
       "2990             2     35.21\n",
       "16309            8     37.79\n",
       "8188            11     34.28\n",
       "15369           12     37.81\n",
       "15656           15     37.60\n",
       "...            ...       ...\n",
       "1116         30401     33.52\n",
       "8881         30405     34.16\n",
       "2969         32054     34.03\n",
       "12772        32627     36.64\n",
       "2871         37937     33.89\n",
       "\n",
       "[5533 rows x 2 columns]"
      ]
     },
     "execution_count": 26,
     "metadata": {},
     "output_type": "execute_result"
    }
   ],
   "source": [
    " paso_4(Data_housing_train)"
   ]
  },
  {
   "cell_type": "markdown",
   "id": "35038024",
   "metadata": {
    "papermill": {
     "duration": 0.025648,
     "end_time": "2023-03-10T14:54:18.328895",
     "exception": false,
     "start_time": "2023-03-10T14:54:18.303247",
     "status": "completed"
    },
    "tags": []
   },
   "source": [
    "# Partiendo de los dos data frames del Paso 2. Calcula la media de las latitudes de los cada data frame agregado por el el número de dormitorios. Calcula las difrencias entre las medias de cada data frame para el mismo número de dormitorios. Es decir, la diferencia entre la latitud media de los registros del data frame del 20% con un solo dormitorio y la latitud media del data frame del 80% con un solo dormitorio; Realiza esta operación para todo número de habitaciones."
   ]
  },
  {
   "cell_type": "markdown",
   "id": "ab87b47c",
   "metadata": {
    "papermill": {
     "duration": 0.02624,
     "end_time": "2023-03-10T14:54:18.380998",
     "exception": false,
     "start_time": "2023-03-10T14:54:18.354758",
     "status": "completed"
    },
    "tags": []
   },
   "source": [
    "Primero creo una función para calcular las medias"
   ]
  },
  {
   "cell_type": "code",
   "execution_count": 27,
   "id": "a331def1",
   "metadata": {
    "execution": {
     "iopub.execute_input": "2023-03-10T14:54:18.438144Z",
     "iopub.status.busy": "2023-03-10T14:54:18.437166Z",
     "iopub.status.idle": "2023-03-10T14:54:18.446247Z",
     "shell.execute_reply": "2023-03-10T14:54:18.445034Z"
    },
    "papermill": {
     "duration": 0.041961,
     "end_time": "2023-03-10T14:54:18.449049",
     "exception": false,
     "start_time": "2023-03-10T14:54:18.407088",
     "status": "completed"
    },
    "tags": []
   },
   "outputs": [],
   "source": [
    "\n",
    "def calculo_medias_latitud_por_dormitorio (df_entrada):\n",
    "\n",
    "    df_contenedor = pd.DataFrame({'total_bedrooms': np.arange(len(df_entrada)) , 'mean_latitude': np.arange(len(df_entrada))})\n",
    "    \n",
    "    df_contenedor = df_contenedor.astype({'total_bedrooms':'int','mean_latitude':'float64'})\n",
    "    \n",
    "    for i,bedrooms in enumerate(df_entrada.total_bedrooms) :\n",
    "    \n",
    "            df_contenedor.total_bedrooms[i] = bedrooms \n",
    "        \n",
    "            df_contenedor.mean_latitude[i] = df_entrada.loc[df_entrada.total_bedrooms == bedrooms].latitude.mean()\n",
    "    \n",
    "                   #Es la misma idea que antes pero en vez de valor maximo se calcula una media\n",
    "    return df_contenedor.sort_values(by = [\"total_bedrooms\"]).drop_duplicates(subset=['total_bedrooms'])"
   ]
  },
  {
   "cell_type": "code",
   "execution_count": 28,
   "id": "5a268475",
   "metadata": {
    "execution": {
     "iopub.execute_input": "2023-03-10T14:54:18.504649Z",
     "iopub.status.busy": "2023-03-10T14:54:18.503613Z",
     "iopub.status.idle": "2023-03-10T14:54:22.356271Z",
     "shell.execute_reply": "2023-03-10T14:54:22.354822Z"
    },
    "papermill": {
     "duration": 3.88387,
     "end_time": "2023-03-10T14:54:22.359520",
     "exception": false,
     "start_time": "2023-03-10T14:54:18.475650",
     "status": "completed"
    },
    "tags": []
   },
   "outputs": [
    {
     "name": "stderr",
     "output_type": "stream",
     "text": [
      "/opt/conda/lib/python3.7/site-packages/ipykernel_launcher.py:9: SettingWithCopyWarning: \n",
      "A value is trying to be set on a copy of a slice from a DataFrame\n",
      "\n",
      "See the caveats in the documentation: https://pandas.pydata.org/pandas-docs/stable/user_guide/indexing.html#returning-a-view-versus-a-copy\n",
      "  if __name__ == \"__main__\":\n",
      "/opt/conda/lib/python3.7/site-packages/ipykernel_launcher.py:11: SettingWithCopyWarning: \n",
      "A value is trying to be set on a copy of a slice from a DataFrame\n",
      "\n",
      "See the caveats in the documentation: https://pandas.pydata.org/pandas-docs/stable/user_guide/indexing.html#returning-a-view-versus-a-copy\n",
      "  # This is added back by InteractiveShellApp.init_path()\n"
     ]
    }
   ],
   "source": [
    "Sample_df= calculo_medias_latitud_por_dormitorio(Sample_Data_housing_train)"
   ]
  },
  {
   "cell_type": "code",
   "execution_count": 29,
   "id": "8049e468",
   "metadata": {
    "execution": {
     "iopub.execute_input": "2023-03-10T14:54:22.413983Z",
     "iopub.status.busy": "2023-03-10T14:54:22.413570Z",
     "iopub.status.idle": "2023-03-10T14:54:22.427792Z",
     "shell.execute_reply": "2023-03-10T14:54:22.426466Z"
    },
    "papermill": {
     "duration": 0.044172,
     "end_time": "2023-03-10T14:54:22.430191",
     "exception": false,
     "start_time": "2023-03-10T14:54:22.386019",
     "status": "completed"
    },
    "tags": []
   },
   "outputs": [
    {
     "data": {
      "text/html": [
       "<div>\n",
       "<style scoped>\n",
       "    .dataframe tbody tr th:only-of-type {\n",
       "        vertical-align: middle;\n",
       "    }\n",
       "\n",
       "    .dataframe tbody tr th {\n",
       "        vertical-align: top;\n",
       "    }\n",
       "\n",
       "    .dataframe thead th {\n",
       "        text-align: right;\n",
       "    }\n",
       "</style>\n",
       "<table border=\"1\" class=\"dataframe\">\n",
       "  <thead>\n",
       "    <tr style=\"text-align: right;\">\n",
       "      <th></th>\n",
       "      <th>total_bedrooms</th>\n",
       "      <th>mean_latitude</th>\n",
       "    </tr>\n",
       "  </thead>\n",
       "  <tbody>\n",
       "    <tr>\n",
       "      <th>655</th>\n",
       "      <td>2</td>\n",
       "      <td>35.210</td>\n",
       "    </tr>\n",
       "    <tr>\n",
       "      <th>2337</th>\n",
       "      <td>3</td>\n",
       "      <td>34.695</td>\n",
       "    </tr>\n",
       "    <tr>\n",
       "      <th>536</th>\n",
       "      <td>4</td>\n",
       "      <td>38.510</td>\n",
       "    </tr>\n",
       "    <tr>\n",
       "      <th>495</th>\n",
       "      <td>5</td>\n",
       "      <td>32.750</td>\n",
       "    </tr>\n",
       "    <tr>\n",
       "      <th>2745</th>\n",
       "      <td>6</td>\n",
       "      <td>34.060</td>\n",
       "    </tr>\n",
       "    <tr>\n",
       "      <th>...</th>\n",
       "      <td>...</td>\n",
       "      <td>...</td>\n",
       "    </tr>\n",
       "    <tr>\n",
       "      <th>1079</th>\n",
       "      <td>3358</td>\n",
       "      <td>38.540</td>\n",
       "    </tr>\n",
       "    <tr>\n",
       "      <th>2062</th>\n",
       "      <td>3753</td>\n",
       "      <td>33.190</td>\n",
       "    </tr>\n",
       "    <tr>\n",
       "      <th>298</th>\n",
       "      <td>3864</td>\n",
       "      <td>37.530</td>\n",
       "    </tr>\n",
       "    <tr>\n",
       "      <th>2964</th>\n",
       "      <td>4095</td>\n",
       "      <td>34.100</td>\n",
       "    </tr>\n",
       "    <tr>\n",
       "      <th>2343</th>\n",
       "      <td>4819</td>\n",
       "      <td>33.350</td>\n",
       "    </tr>\n",
       "  </tbody>\n",
       "</table>\n",
       "<p>1113 rows × 2 columns</p>\n",
       "</div>"
      ],
      "text/plain": [
       "      total_bedrooms  mean_latitude\n",
       "655                2         35.210\n",
       "2337               3         34.695\n",
       "536                4         38.510\n",
       "495                5         32.750\n",
       "2745               6         34.060\n",
       "...              ...            ...\n",
       "1079            3358         38.540\n",
       "2062            3753         33.190\n",
       "298             3864         37.530\n",
       "2964            4095         34.100\n",
       "2343            4819         33.350\n",
       "\n",
       "[1113 rows x 2 columns]"
      ]
     },
     "execution_count": 29,
     "metadata": {},
     "output_type": "execute_result"
    }
   ],
   "source": [
    "Sample_df"
   ]
  },
  {
   "cell_type": "code",
   "execution_count": 30,
   "id": "bc64bc45",
   "metadata": {
    "execution": {
     "iopub.execute_input": "2023-03-10T14:54:22.485144Z",
     "iopub.status.busy": "2023-03-10T14:54:22.484270Z",
     "iopub.status.idle": "2023-03-10T14:54:37.990475Z",
     "shell.execute_reply": "2023-03-10T14:54:37.989132Z"
    },
    "papermill": {
     "duration": 15.536735,
     "end_time": "2023-03-10T14:54:37.993523",
     "exception": false,
     "start_time": "2023-03-10T14:54:22.456788",
     "status": "completed"
    },
    "tags": []
   },
   "outputs": [
    {
     "name": "stderr",
     "output_type": "stream",
     "text": [
      "/opt/conda/lib/python3.7/site-packages/ipykernel_launcher.py:9: SettingWithCopyWarning: \n",
      "A value is trying to be set on a copy of a slice from a DataFrame\n",
      "\n",
      "See the caveats in the documentation: https://pandas.pydata.org/pandas-docs/stable/user_guide/indexing.html#returning-a-view-versus-a-copy\n",
      "  if __name__ == \"__main__\":\n",
      "/opt/conda/lib/python3.7/site-packages/ipykernel_launcher.py:11: SettingWithCopyWarning: \n",
      "A value is trying to be set on a copy of a slice from a DataFrame\n",
      "\n",
      "See the caveats in the documentation: https://pandas.pydata.org/pandas-docs/stable/user_guide/indexing.html#returning-a-view-versus-a-copy\n",
      "  # This is added back by InteractiveShellApp.init_path()\n"
     ]
    }
   ],
   "source": [
    "Rest_Sample_df = calculo_medias_latitud_por_dormitorio(Rest_Sample_Data_housing_train)"
   ]
  },
  {
   "cell_type": "code",
   "execution_count": 31,
   "id": "06d25e31",
   "metadata": {
    "execution": {
     "iopub.execute_input": "2023-03-10T14:54:38.049166Z",
     "iopub.status.busy": "2023-03-10T14:54:38.048565Z",
     "iopub.status.idle": "2023-03-10T14:54:38.062129Z",
     "shell.execute_reply": "2023-03-10T14:54:38.060995Z"
    },
    "papermill": {
     "duration": 0.044252,
     "end_time": "2023-03-10T14:54:38.064413",
     "exception": false,
     "start_time": "2023-03-10T14:54:38.020161",
     "status": "completed"
    },
    "tags": []
   },
   "outputs": [
    {
     "data": {
      "text/html": [
       "<div>\n",
       "<style scoped>\n",
       "    .dataframe tbody tr th:only-of-type {\n",
       "        vertical-align: middle;\n",
       "    }\n",
       "\n",
       "    .dataframe tbody tr th {\n",
       "        vertical-align: top;\n",
       "    }\n",
       "\n",
       "    .dataframe thead th {\n",
       "        text-align: right;\n",
       "    }\n",
       "</style>\n",
       "<table border=\"1\" class=\"dataframe\">\n",
       "  <thead>\n",
       "    <tr style=\"text-align: right;\">\n",
       "      <th></th>\n",
       "      <th>total_bedrooms</th>\n",
       "      <th>mean_latitude</th>\n",
       "    </tr>\n",
       "  </thead>\n",
       "  <tbody>\n",
       "    <tr>\n",
       "      <th>13041</th>\n",
       "      <td>1</td>\n",
       "      <td>37.790</td>\n",
       "    </tr>\n",
       "    <tr>\n",
       "      <th>12530</th>\n",
       "      <td>3</td>\n",
       "      <td>35.925</td>\n",
       "    </tr>\n",
       "    <tr>\n",
       "      <th>11002</th>\n",
       "      <td>4</td>\n",
       "      <td>37.490</td>\n",
       "    </tr>\n",
       "    <tr>\n",
       "      <th>2608</th>\n",
       "      <td>5</td>\n",
       "      <td>34.900</td>\n",
       "    </tr>\n",
       "    <tr>\n",
       "      <th>6558</th>\n",
       "      <td>6</td>\n",
       "      <td>36.010</td>\n",
       "    </tr>\n",
       "    <tr>\n",
       "      <th>...</th>\n",
       "      <td>...</td>\n",
       "      <td>...</td>\n",
       "    </tr>\n",
       "    <tr>\n",
       "      <th>1667</th>\n",
       "      <td>4952</td>\n",
       "      <td>33.980</td>\n",
       "    </tr>\n",
       "    <tr>\n",
       "      <th>888</th>\n",
       "      <td>4957</td>\n",
       "      <td>33.520</td>\n",
       "    </tr>\n",
       "    <tr>\n",
       "      <th>2357</th>\n",
       "      <td>5290</td>\n",
       "      <td>34.030</td>\n",
       "    </tr>\n",
       "    <tr>\n",
       "      <th>2284</th>\n",
       "      <td>5471</td>\n",
       "      <td>33.890</td>\n",
       "    </tr>\n",
       "    <tr>\n",
       "      <th>10234</th>\n",
       "      <td>6445</td>\n",
       "      <td>36.640</td>\n",
       "    </tr>\n",
       "  </tbody>\n",
       "</table>\n",
       "<p>1754 rows × 2 columns</p>\n",
       "</div>"
      ],
      "text/plain": [
       "       total_bedrooms  mean_latitude\n",
       "13041               1         37.790\n",
       "12530               3         35.925\n",
       "11002               4         37.490\n",
       "2608                5         34.900\n",
       "6558                6         36.010\n",
       "...               ...            ...\n",
       "1667             4952         33.980\n",
       "888              4957         33.520\n",
       "2357             5290         34.030\n",
       "2284             5471         33.890\n",
       "10234            6445         36.640\n",
       "\n",
       "[1754 rows x 2 columns]"
      ]
     },
     "execution_count": 31,
     "metadata": {},
     "output_type": "execute_result"
    }
   ],
   "source": [
    "Rest_Sample_df"
   ]
  },
  {
   "cell_type": "markdown",
   "id": "16699964",
   "metadata": {
    "papermill": {
     "duration": 0.026305,
     "end_time": "2023-03-10T14:54:38.117410",
     "exception": false,
     "start_time": "2023-03-10T14:54:38.091105",
     "status": "completed"
    },
    "tags": []
   },
   "source": [
    "Ahora creo una función para calcular las diferencias"
   ]
  },
  {
   "cell_type": "code",
   "execution_count": 32,
   "id": "e0a06496",
   "metadata": {
    "execution": {
     "iopub.execute_input": "2023-03-10T14:54:38.173314Z",
     "iopub.status.busy": "2023-03-10T14:54:38.172898Z",
     "iopub.status.idle": "2023-03-10T14:54:38.180436Z",
     "shell.execute_reply": "2023-03-10T14:54:38.179498Z"
    },
    "papermill": {
     "duration": 0.03834,
     "end_time": "2023-03-10T14:54:38.182723",
     "exception": false,
     "start_time": "2023-03-10T14:54:38.144383",
     "status": "completed"
    },
    "tags": []
   },
   "outputs": [],
   "source": [
    "#La esencia de esta función es paso data frame a arrays, resto arrays y luego paso dataframe \n",
    "\n",
    "\n",
    "def diferencia_medias(df1,df2):\n",
    "    \n",
    "    lista= list(set(df1.total_bedrooms) & set(df2.total_bedrooms))\n",
    "    \n",
    "    #para restar si tengo bolas rojas,verdes, azules y mi amigo tiene azules y rojas\n",
    "    # no tiene sentido preguntar la diferencia de media de dureza entre las pelotas verdes\n",
    "    # pues yo tengo una media pero mi amigo tiene 0 pelotas verdes y /0 no se puede.\n",
    "    #Entonces hay que buscar los datos en comun\n",
    "    \n",
    "    df1_comun = df1.loc[df1.total_bedrooms.isin(lista)]\n",
    "\n",
    "    df2_comun = df2.loc[df2.total_bedrooms.isin(lista)]\n",
    "    \n",
    "    #Sabiendo los datos en comun le digo a cada data set que sus datos unicos los elimine\n",
    "    # solo quiero el numero de dormitorios en comun para restar\n",
    "    \n",
    "    df1_computable = df1_comun.to_numpy()\n",
    "    \n",
    "    df2_comun[\"total_bedrooms\"] = 0\n",
    "    \n",
    "    df2_computable = df2_comun.to_numpy()\n",
    "    \n",
    "    #Solo quiero restar las medias de latitud y dejar constante dormitorios.\n",
    "    #Simplemente resto 0 a dormitorios y se queda igual.\n",
    "    \n",
    "    diferencia_array = df1_computable-df2_computable\n",
    "    \n",
    "    diferencia_dataframe = pd.DataFrame(diferencia_array, columns = list(df1))\n",
    "    \n",
    "    #Paso array a dataframe, y los nombres de las columnas se los doy con list    \n",
    "\n",
    "    \n",
    "    return diferencia_dataframe\n",
    "    "
   ]
  },
  {
   "cell_type": "code",
   "execution_count": 33,
   "id": "4f71b072",
   "metadata": {
    "execution": {
     "iopub.execute_input": "2023-03-10T14:54:38.239812Z",
     "iopub.status.busy": "2023-03-10T14:54:38.239376Z",
     "iopub.status.idle": "2023-03-10T14:54:38.260366Z",
     "shell.execute_reply": "2023-03-10T14:54:38.258463Z"
    },
    "papermill": {
     "duration": 0.054126,
     "end_time": "2023-03-10T14:54:38.263697",
     "exception": false,
     "start_time": "2023-03-10T14:54:38.209571",
     "status": "completed"
    },
    "tags": []
   },
   "outputs": [
    {
     "name": "stderr",
     "output_type": "stream",
     "text": [
      "/opt/conda/lib/python3.7/site-packages/ipykernel_launcher.py:22: SettingWithCopyWarning: \n",
      "A value is trying to be set on a copy of a slice from a DataFrame.\n",
      "Try using .loc[row_indexer,col_indexer] = value instead\n",
      "\n",
      "See the caveats in the documentation: https://pandas.pydata.org/pandas-docs/stable/user_guide/indexing.html#returning-a-view-versus-a-copy\n"
     ]
    },
    {
     "data": {
      "text/html": [
       "<div>\n",
       "<style scoped>\n",
       "    .dataframe tbody tr th:only-of-type {\n",
       "        vertical-align: middle;\n",
       "    }\n",
       "\n",
       "    .dataframe tbody tr th {\n",
       "        vertical-align: top;\n",
       "    }\n",
       "\n",
       "    .dataframe thead th {\n",
       "        text-align: right;\n",
       "    }\n",
       "</style>\n",
       "<table border=\"1\" class=\"dataframe\">\n",
       "  <thead>\n",
       "    <tr style=\"text-align: right;\">\n",
       "      <th></th>\n",
       "      <th>total_bedrooms</th>\n",
       "      <th>mean_latitude</th>\n",
       "    </tr>\n",
       "  </thead>\n",
       "  <tbody>\n",
       "    <tr>\n",
       "      <th>0</th>\n",
       "      <td>3.0</td>\n",
       "      <td>1.230</td>\n",
       "    </tr>\n",
       "    <tr>\n",
       "      <th>1</th>\n",
       "      <td>4.0</td>\n",
       "      <td>-1.020</td>\n",
       "    </tr>\n",
       "    <tr>\n",
       "      <th>2</th>\n",
       "      <td>5.0</td>\n",
       "      <td>2.150</td>\n",
       "    </tr>\n",
       "    <tr>\n",
       "      <th>3</th>\n",
       "      <td>6.0</td>\n",
       "      <td>1.950</td>\n",
       "    </tr>\n",
       "    <tr>\n",
       "      <th>4</th>\n",
       "      <td>8.0</td>\n",
       "      <td>1.850</td>\n",
       "    </tr>\n",
       "    <tr>\n",
       "      <th>...</th>\n",
       "      <td>...</td>\n",
       "      <td>...</td>\n",
       "    </tr>\n",
       "    <tr>\n",
       "      <th>1014</th>\n",
       "      <td>1985.0</td>\n",
       "      <td>-0.050</td>\n",
       "    </tr>\n",
       "    <tr>\n",
       "      <th>1015</th>\n",
       "      <td>2007.0</td>\n",
       "      <td>0.275</td>\n",
       "    </tr>\n",
       "    <tr>\n",
       "      <th>1016</th>\n",
       "      <td>2139.0</td>\n",
       "      <td>1.090</td>\n",
       "    </tr>\n",
       "    <tr>\n",
       "      <th>1017</th>\n",
       "      <td>2401.0</td>\n",
       "      <td>3.050</td>\n",
       "    </tr>\n",
       "    <tr>\n",
       "      <th>1018</th>\n",
       "      <td>2617.0</td>\n",
       "      <td>-1.940</td>\n",
       "    </tr>\n",
       "  </tbody>\n",
       "</table>\n",
       "<p>1019 rows × 2 columns</p>\n",
       "</div>"
      ],
      "text/plain": [
       "      total_bedrooms  mean_latitude\n",
       "0                3.0          1.230\n",
       "1                4.0         -1.020\n",
       "2                5.0          2.150\n",
       "3                6.0          1.950\n",
       "4                8.0          1.850\n",
       "...              ...            ...\n",
       "1014          1985.0         -0.050\n",
       "1015          2007.0          0.275\n",
       "1016          2139.0          1.090\n",
       "1017          2401.0          3.050\n",
       "1018          2617.0         -1.940\n",
       "\n",
       "[1019 rows x 2 columns]"
      ]
     },
     "execution_count": 33,
     "metadata": {},
     "output_type": "execute_result"
    }
   ],
   "source": [
    "diferencia_medias(Rest_Sample_df, Sample_df)"
   ]
  },
  {
   "cell_type": "markdown",
   "id": "c0bb4762",
   "metadata": {
    "papermill": {
     "duration": 0.027492,
     "end_time": "2023-03-10T14:54:38.319200",
     "exception": false,
     "start_time": "2023-03-10T14:54:38.291708",
     "status": "completed"
    },
    "tags": []
   },
   "source": [
    "**Laboratorio 2**"
   ]
  },
  {
   "cell_type": "code",
   "execution_count": 34,
   "id": "40e3ed40",
   "metadata": {
    "execution": {
     "iopub.execute_input": "2023-03-10T14:54:38.376794Z",
     "iopub.status.busy": "2023-03-10T14:54:38.375525Z",
     "iopub.status.idle": "2023-03-10T14:54:38.382488Z",
     "shell.execute_reply": "2023-03-10T14:54:38.380897Z"
    },
    "papermill": {
     "duration": 0.038301,
     "end_time": "2023-03-10T14:54:38.385181",
     "exception": false,
     "start_time": "2023-03-10T14:54:38.346880",
     "status": "completed"
    },
    "tags": []
   },
   "outputs": [],
   "source": [
    "lista= list(set(Rest_Sample_df.total_bedrooms) & set(Sample_df.total_bedrooms))"
   ]
  },
  {
   "cell_type": "code",
   "execution_count": 35,
   "id": "9b6bdace",
   "metadata": {
    "execution": {
     "iopub.execute_input": "2023-03-10T14:54:38.446585Z",
     "iopub.status.busy": "2023-03-10T14:54:38.446050Z",
     "iopub.status.idle": "2023-03-10T14:54:38.454518Z",
     "shell.execute_reply": "2023-03-10T14:54:38.453224Z"
    },
    "papermill": {
     "duration": 0.044714,
     "end_time": "2023-03-10T14:54:38.456847",
     "exception": false,
     "start_time": "2023-03-10T14:54:38.412133",
     "status": "completed"
    },
    "tags": []
   },
   "outputs": [],
   "source": [
    "df = pd.DataFrame({\"Numeros\" : [27,31,34,27,45,45,22], \"Casas\" : [67,55,43,43,44,44,67]})\n",
    "\n",
    "dg = pd.DataFrame({\"Numeros\" : [14,34,4,6,45,45,22,76], \"Casas\" : [67,54,43,43,8,44,67,435]})\n",
    "\n",
    "\n",
    "\n",
    "\n",
    "#x = df.to_numpy() -dg.to_numpy() "
   ]
  },
  {
   "cell_type": "code",
   "execution_count": 36,
   "id": "7ee032ff",
   "metadata": {
    "execution": {
     "iopub.execute_input": "2023-03-10T14:54:38.513563Z",
     "iopub.status.busy": "2023-03-10T14:54:38.513130Z",
     "iopub.status.idle": "2023-03-10T14:54:38.520327Z",
     "shell.execute_reply": "2023-03-10T14:54:38.519416Z"
    },
    "papermill": {
     "duration": 0.038421,
     "end_time": "2023-03-10T14:54:38.522468",
     "exception": false,
     "start_time": "2023-03-10T14:54:38.484047",
     "status": "completed"
    },
    "tags": []
   },
   "outputs": [
    {
     "data": {
      "text/plain": [
       "31"
      ]
     },
     "execution_count": 36,
     "metadata": {},
     "output_type": "execute_result"
    }
   ],
   "source": [
    "df.iloc[: , 0][1]"
   ]
  },
  {
   "cell_type": "code",
   "execution_count": 37,
   "id": "3e5ca586",
   "metadata": {
    "execution": {
     "iopub.execute_input": "2023-03-10T14:54:38.578769Z",
     "iopub.status.busy": "2023-03-10T14:54:38.578333Z",
     "iopub.status.idle": "2023-03-10T14:54:38.587228Z",
     "shell.execute_reply": "2023-03-10T14:54:38.585848Z"
    },
    "papermill": {
     "duration": 0.039996,
     "end_time": "2023-03-10T14:54:38.589755",
     "exception": false,
     "start_time": "2023-03-10T14:54:38.549759",
     "status": "completed"
    },
    "tags": []
   },
   "outputs": [],
   "source": [
    "x = \"Numeros\"\n",
    "\n",
    "y = \"Casas\"\n",
    "\n",
    "df_contenedor = pd.DataFrame({y: np.arange(len(df)) , 'mean_' + x: np.arange(len(df))})\n",
    "    \n",
    "df_contenedor = df_contenedor.astype({ \"Casas\":'int', \"mean_Numeros\":'float64'})"
   ]
  },
  {
   "cell_type": "code",
   "execution_count": 38,
   "id": "7d81f8bd",
   "metadata": {
    "execution": {
     "iopub.execute_input": "2023-03-10T14:54:38.647334Z",
     "iopub.status.busy": "2023-03-10T14:54:38.646878Z",
     "iopub.status.idle": "2023-03-10T14:54:38.654402Z",
     "shell.execute_reply": "2023-03-10T14:54:38.653216Z"
    },
    "papermill": {
     "duration": 0.039595,
     "end_time": "2023-03-10T14:54:38.656827",
     "exception": false,
     "start_time": "2023-03-10T14:54:38.617232",
     "status": "completed"
    },
    "tags": []
   },
   "outputs": [
    {
     "data": {
      "text/plain": [
       "3"
      ]
     },
     "execution_count": 38,
     "metadata": {},
     "output_type": "execute_result"
    }
   ],
   "source": [
    "Data_housing_train.columns.get_loc(\"total_rooms\")"
   ]
  },
  {
   "cell_type": "code",
   "execution_count": 39,
   "id": "eded0e7f",
   "metadata": {
    "execution": {
     "iopub.execute_input": "2023-03-10T14:54:38.714238Z",
     "iopub.status.busy": "2023-03-10T14:54:38.713809Z",
     "iopub.status.idle": "2023-03-10T14:54:38.719612Z",
     "shell.execute_reply": "2023-03-10T14:54:38.718378Z"
    },
    "papermill": {
     "duration": 0.037973,
     "end_time": "2023-03-10T14:54:38.722339",
     "exception": false,
     "start_time": "2023-03-10T14:54:38.684366",
     "status": "completed"
    },
    "tags": []
   },
   "outputs": [],
   "source": [
    "lista= list(set(df.Casas) & set(dg.Casas)) "
   ]
  },
  {
   "cell_type": "code",
   "execution_count": 40,
   "id": "09c0265e",
   "metadata": {
    "execution": {
     "iopub.execute_input": "2023-03-10T14:54:38.782133Z",
     "iopub.status.busy": "2023-03-10T14:54:38.780888Z",
     "iopub.status.idle": "2023-03-10T14:54:38.788934Z",
     "shell.execute_reply": "2023-03-10T14:54:38.787702Z"
    },
    "papermill": {
     "duration": 0.040591,
     "end_time": "2023-03-10T14:54:38.791574",
     "exception": false,
     "start_time": "2023-03-10T14:54:38.750983",
     "status": "completed"
    },
    "tags": []
   },
   "outputs": [],
   "source": [
    "df = df.loc[df.Casas.isin(lista)]\n",
    "\n",
    "dg = dg.loc[dg.Casas.isin(lista)]"
   ]
  },
  {
   "cell_type": "code",
   "execution_count": 41,
   "id": "13a82d82",
   "metadata": {
    "execution": {
     "iopub.execute_input": "2023-03-10T14:54:38.848375Z",
     "iopub.status.busy": "2023-03-10T14:54:38.847926Z",
     "iopub.status.idle": "2023-03-10T14:54:38.858004Z",
     "shell.execute_reply": "2023-03-10T14:54:38.856738Z"
    },
    "papermill": {
     "duration": 0.042222,
     "end_time": "2023-03-10T14:54:38.860849",
     "exception": false,
     "start_time": "2023-03-10T14:54:38.818627",
     "status": "completed"
    },
    "tags": []
   },
   "outputs": [
    {
     "data": {
      "text/html": [
       "<div>\n",
       "<style scoped>\n",
       "    .dataframe tbody tr th:only-of-type {\n",
       "        vertical-align: middle;\n",
       "    }\n",
       "\n",
       "    .dataframe tbody tr th {\n",
       "        vertical-align: top;\n",
       "    }\n",
       "\n",
       "    .dataframe thead th {\n",
       "        text-align: right;\n",
       "    }\n",
       "</style>\n",
       "<table border=\"1\" class=\"dataframe\">\n",
       "  <thead>\n",
       "    <tr style=\"text-align: right;\">\n",
       "      <th></th>\n",
       "      <th>Numeros</th>\n",
       "      <th>Casas</th>\n",
       "    </tr>\n",
       "  </thead>\n",
       "  <tbody>\n",
       "    <tr>\n",
       "      <th>0</th>\n",
       "      <td>14</td>\n",
       "      <td>67</td>\n",
       "    </tr>\n",
       "    <tr>\n",
       "      <th>2</th>\n",
       "      <td>4</td>\n",
       "      <td>43</td>\n",
       "    </tr>\n",
       "    <tr>\n",
       "      <th>3</th>\n",
       "      <td>6</td>\n",
       "      <td>43</td>\n",
       "    </tr>\n",
       "    <tr>\n",
       "      <th>5</th>\n",
       "      <td>45</td>\n",
       "      <td>44</td>\n",
       "    </tr>\n",
       "    <tr>\n",
       "      <th>6</th>\n",
       "      <td>22</td>\n",
       "      <td>67</td>\n",
       "    </tr>\n",
       "  </tbody>\n",
       "</table>\n",
       "</div>"
      ],
      "text/plain": [
       "   Numeros  Casas\n",
       "0       14     67\n",
       "2        4     43\n",
       "3        6     43\n",
       "5       45     44\n",
       "6       22     67"
      ]
     },
     "execution_count": 41,
     "metadata": {},
     "output_type": "execute_result"
    }
   ],
   "source": [
    "dg"
   ]
  },
  {
   "cell_type": "code",
   "execution_count": 42,
   "id": "664b26f4",
   "metadata": {
    "execution": {
     "iopub.execute_input": "2023-03-10T14:54:38.918365Z",
     "iopub.status.busy": "2023-03-10T14:54:38.917931Z",
     "iopub.status.idle": "2023-03-10T14:54:38.924526Z",
     "shell.execute_reply": "2023-03-10T14:54:38.923410Z"
    },
    "papermill": {
     "duration": 0.038124,
     "end_time": "2023-03-10T14:54:38.926716",
     "exception": false,
     "start_time": "2023-03-10T14:54:38.888592",
     "status": "completed"
    },
    "tags": []
   },
   "outputs": [],
   "source": [
    "df= df.drop_duplicates()"
   ]
  },
  {
   "cell_type": "code",
   "execution_count": 43,
   "id": "aeae2a7c",
   "metadata": {
    "execution": {
     "iopub.execute_input": "2023-03-10T14:54:38.983869Z",
     "iopub.status.busy": "2023-03-10T14:54:38.983088Z",
     "iopub.status.idle": "2023-03-10T14:54:38.995019Z",
     "shell.execute_reply": "2023-03-10T14:54:38.993722Z"
    },
    "papermill": {
     "duration": 0.043812,
     "end_time": "2023-03-10T14:54:38.997809",
     "exception": false,
     "start_time": "2023-03-10T14:54:38.953997",
     "status": "completed"
    },
    "tags": []
   },
   "outputs": [
    {
     "data": {
      "text/html": [
       "<div>\n",
       "<style scoped>\n",
       "    .dataframe tbody tr th:only-of-type {\n",
       "        vertical-align: middle;\n",
       "    }\n",
       "\n",
       "    .dataframe tbody tr th {\n",
       "        vertical-align: top;\n",
       "    }\n",
       "\n",
       "    .dataframe thead th {\n",
       "        text-align: right;\n",
       "    }\n",
       "</style>\n",
       "<table border=\"1\" class=\"dataframe\">\n",
       "  <thead>\n",
       "    <tr style=\"text-align: right;\">\n",
       "      <th></th>\n",
       "      <th>Numeros</th>\n",
       "      <th>Casas</th>\n",
       "    </tr>\n",
       "  </thead>\n",
       "  <tbody>\n",
       "    <tr>\n",
       "      <th>0</th>\n",
       "      <td>13</td>\n",
       "      <td>0</td>\n",
       "    </tr>\n",
       "    <tr>\n",
       "      <th>1</th>\n",
       "      <td>30</td>\n",
       "      <td>0</td>\n",
       "    </tr>\n",
       "    <tr>\n",
       "      <th>2</th>\n",
       "      <td>21</td>\n",
       "      <td>0</td>\n",
       "    </tr>\n",
       "    <tr>\n",
       "      <th>3</th>\n",
       "      <td>0</td>\n",
       "      <td>0</td>\n",
       "    </tr>\n",
       "    <tr>\n",
       "      <th>4</th>\n",
       "      <td>0</td>\n",
       "      <td>0</td>\n",
       "    </tr>\n",
       "  </tbody>\n",
       "</table>\n",
       "</div>"
      ],
      "text/plain": [
       "   Numeros  Casas\n",
       "0       13      0\n",
       "1       30      0\n",
       "2       21      0\n",
       "3        0      0\n",
       "4        0      0"
      ]
     },
     "execution_count": 43,
     "metadata": {},
     "output_type": "execute_result"
    }
   ],
   "source": [
    "x = df.to_numpy() -dg.to_numpy() \n",
    "\n",
    "y = pd.DataFrame(x, columns = [\"Numeros\", \"Casas\"])\n",
    "\n",
    "y\n"
   ]
  },
  {
   "cell_type": "code",
   "execution_count": 44,
   "id": "7a920c40",
   "metadata": {
    "execution": {
     "iopub.execute_input": "2023-03-10T14:54:39.055507Z",
     "iopub.status.busy": "2023-03-10T14:54:39.054767Z",
     "iopub.status.idle": "2023-03-10T14:54:39.061975Z",
     "shell.execute_reply": "2023-03-10T14:54:39.060828Z"
    },
    "papermill": {
     "duration": 0.039378,
     "end_time": "2023-03-10T14:54:39.064723",
     "exception": false,
     "start_time": "2023-03-10T14:54:39.025345",
     "status": "completed"
    },
    "tags": []
   },
   "outputs": [
    {
     "data": {
      "text/plain": [
       "['longitude',\n",
       " 'latitude',\n",
       " 'housing_median_age',\n",
       " 'total_rooms',\n",
       " 'total_bedrooms',\n",
       " 'population',\n",
       " 'households',\n",
       " 'median_income',\n",
       " 'median_house_value']"
      ]
     },
     "execution_count": 44,
     "metadata": {},
     "output_type": "execute_result"
    }
   ],
   "source": [
    "list(Data_housing_train)"
   ]
  },
  {
   "cell_type": "code",
   "execution_count": 45,
   "id": "605c7243",
   "metadata": {
    "execution": {
     "iopub.execute_input": "2023-03-10T14:54:39.123368Z",
     "iopub.status.busy": "2023-03-10T14:54:39.122944Z",
     "iopub.status.idle": "2023-03-10T14:54:39.130838Z",
     "shell.execute_reply": "2023-03-10T14:54:39.129606Z"
    },
    "papermill": {
     "duration": 0.040037,
     "end_time": "2023-03-10T14:54:39.133401",
     "exception": false,
     "start_time": "2023-03-10T14:54:39.093364",
     "status": "completed"
    },
    "tags": []
   },
   "outputs": [
    {
     "data": {
      "text/plain": [
       "['Numeros', 'Casas']"
      ]
     },
     "execution_count": 45,
     "metadata": {},
     "output_type": "execute_result"
    }
   ],
   "source": [
    "y = pd.DataFrame(x, columns = [\"Numeros\", \"Casas\"])\n",
    "\n",
    "list(y)"
   ]
  },
  {
   "cell_type": "markdown",
   "id": "2798837c",
   "metadata": {
    "papermill": {
     "duration": 0.027611,
     "end_time": "2023-03-10T14:54:39.188903",
     "exception": false,
     "start_time": "2023-03-10T14:54:39.161292",
     "status": "completed"
    },
    "tags": []
   },
   "source": [
    "**Fin laboratorio 2**"
   ]
  },
  {
   "cell_type": "markdown",
   "id": "4ed5a95d",
   "metadata": {
    "papermill": {
     "duration": 0.027541,
     "end_time": "2023-03-10T14:54:39.244479",
     "exception": false,
     "start_time": "2023-03-10T14:54:39.216938",
     "status": "completed"
    },
    "tags": []
   },
   "source": [
    "# Calcula cualquier medida que consideres interesante en utilizando Spark SQL. Por ejemplo, la media de dormitorios agrupado por las habitaciones que tiene cada registro."
   ]
  },
  {
   "cell_type": "markdown",
   "id": "722d9610",
   "metadata": {
    "papermill": {
     "duration": 0.027429,
     "end_time": "2023-03-10T14:54:39.299796",
     "exception": false,
     "start_time": "2023-03-10T14:54:39.272367",
     "status": "completed"
    },
    "tags": []
   },
   "source": [
    "Se me ha ocurrido abstraer la función del cálculo de medias"
   ]
  },
  {
   "cell_type": "code",
   "execution_count": 46,
   "id": "6971e09b",
   "metadata": {
    "execution": {
     "iopub.execute_input": "2023-03-10T14:54:39.358169Z",
     "iopub.status.busy": "2023-03-10T14:54:39.357717Z",
     "iopub.status.idle": "2023-03-10T14:54:39.367204Z",
     "shell.execute_reply": "2023-03-10T14:54:39.365931Z"
    },
    "papermill": {
     "duration": 0.04158,
     "end_time": "2023-03-10T14:54:39.369704",
     "exception": false,
     "start_time": "2023-03-10T14:54:39.328124",
     "status": "completed"
    },
    "tags": []
   },
   "outputs": [],
   "source": [
    "def calculo_medias_x_por_y (x,y,df_entrada):\n",
    "\n",
    "    df_contenedor = pd.DataFrame({y: np.arange(len(df_entrada)) , 'mean_' + x: np.arange(len(df_entrada))})\n",
    "    \n",
    "    df_contenedor = df_contenedor.astype({y:'float64', \"mean_\" + x:'float64'})\n",
    "    \n",
    "    #Los 2 float porque poner y en int no generaliza. Int esta dentro de los float\n",
    "    #pero no al revés\n",
    "    \n",
    "    numero_de_columna_x = df_entrada.columns.get_loc(x)\n",
    "    \n",
    "    numero_de_columna_y = df_entrada.columns.get_loc(y)\n",
    "    \n",
    "    #para generalizar yo no he podido hacer data.habitaciones, tengo que usar\n",
    "    # data.iloc[: , posicion de \"habitaciones\"]. Ese numero se consigue con get_loc\n",
    "    # y el nombre de la columna\n",
    "    \n",
    "    for i,z in enumerate(df_entrada.iloc[: ,numero_de_columna_y]) :\n",
    "    \n",
    "            df_contenedor.iloc[: ,0][i] = z \n",
    "        \n",
    "            df_contenedor.iloc[: ,1][i] = df_entrada.loc[df_entrada.iloc[: ,numero_de_columna_y] == z].iloc[: , numero_de_columna_x].mean()\n",
    "    \n",
    "    #Es el mismo codigo pero con esa idea de iloc en vez de poner data.habitaciones\n",
    "    return df_contenedor.sort_values(by = [y]).drop_duplicates(subset=[y])"
   ]
  },
  {
   "cell_type": "markdown",
   "id": "909d724f",
   "metadata": {
    "papermill": {
     "duration": 0.02872,
     "end_time": "2023-03-10T14:54:39.426549",
     "exception": false,
     "start_time": "2023-03-10T14:54:39.397829",
     "status": "completed"
    },
    "tags": []
   },
   "source": [
    "Vamos a calcular la media de dormitorios por número de habitaciones que tenga el edificio"
   ]
  },
  {
   "cell_type": "code",
   "execution_count": 47,
   "id": "b22b2b08",
   "metadata": {
    "execution": {
     "iopub.execute_input": "2023-03-10T14:54:39.486093Z",
     "iopub.status.busy": "2023-03-10T14:54:39.485402Z",
     "iopub.status.idle": "2023-03-10T14:55:02.485470Z",
     "shell.execute_reply": "2023-03-10T14:55:02.483723Z"
    },
    "papermill": {
     "duration": 23.033247,
     "end_time": "2023-03-10T14:55:02.488821",
     "exception": false,
     "start_time": "2023-03-10T14:54:39.455574",
     "status": "completed"
    },
    "tags": []
   },
   "outputs": [],
   "source": [
    "medias_dormitorios_por_habitacion = calculo_medias_x_por_y (\"total_bedrooms\", \"total_rooms\", Data_housing_train)"
   ]
  },
  {
   "cell_type": "code",
   "execution_count": 48,
   "id": "a50ec3c0",
   "metadata": {
    "execution": {
     "iopub.execute_input": "2023-03-10T14:55:02.546680Z",
     "iopub.status.busy": "2023-03-10T14:55:02.546247Z",
     "iopub.status.idle": "2023-03-10T14:55:02.560371Z",
     "shell.execute_reply": "2023-03-10T14:55:02.559217Z"
    },
    "papermill": {
     "duration": 0.046392,
     "end_time": "2023-03-10T14:55:02.563279",
     "exception": false,
     "start_time": "2023-03-10T14:55:02.516887",
     "status": "completed"
    },
    "tags": []
   },
   "outputs": [
    {
     "data": {
      "text/html": [
       "<div>\n",
       "<style scoped>\n",
       "    .dataframe tbody tr th:only-of-type {\n",
       "        vertical-align: middle;\n",
       "    }\n",
       "\n",
       "    .dataframe tbody tr th {\n",
       "        vertical-align: top;\n",
       "    }\n",
       "\n",
       "    .dataframe thead th {\n",
       "        text-align: right;\n",
       "    }\n",
       "</style>\n",
       "<table border=\"1\" class=\"dataframe\">\n",
       "  <thead>\n",
       "    <tr style=\"text-align: right;\">\n",
       "      <th></th>\n",
       "      <th>total_rooms</th>\n",
       "      <th>mean_total_bedrooms</th>\n",
       "    </tr>\n",
       "  </thead>\n",
       "  <tbody>\n",
       "    <tr>\n",
       "      <th>2990</th>\n",
       "      <td>2.0</td>\n",
       "      <td>2.0</td>\n",
       "    </tr>\n",
       "    <tr>\n",
       "      <th>16309</th>\n",
       "      <td>8.0</td>\n",
       "      <td>1.0</td>\n",
       "    </tr>\n",
       "    <tr>\n",
       "      <th>8188</th>\n",
       "      <td>11.0</td>\n",
       "      <td>11.0</td>\n",
       "    </tr>\n",
       "    <tr>\n",
       "      <th>15369</th>\n",
       "      <td>12.0</td>\n",
       "      <td>4.0</td>\n",
       "    </tr>\n",
       "    <tr>\n",
       "      <th>15656</th>\n",
       "      <td>15.0</td>\n",
       "      <td>4.0</td>\n",
       "    </tr>\n",
       "    <tr>\n",
       "      <th>...</th>\n",
       "      <td>...</td>\n",
       "      <td>...</td>\n",
       "    </tr>\n",
       "    <tr>\n",
       "      <th>1116</th>\n",
       "      <td>30401.0</td>\n",
       "      <td>4957.0</td>\n",
       "    </tr>\n",
       "    <tr>\n",
       "      <th>8881</th>\n",
       "      <td>30405.0</td>\n",
       "      <td>4093.0</td>\n",
       "    </tr>\n",
       "    <tr>\n",
       "      <th>2969</th>\n",
       "      <td>32054.0</td>\n",
       "      <td>5290.0</td>\n",
       "    </tr>\n",
       "    <tr>\n",
       "      <th>12772</th>\n",
       "      <td>32627.0</td>\n",
       "      <td>6445.0</td>\n",
       "    </tr>\n",
       "    <tr>\n",
       "      <th>2871</th>\n",
       "      <td>37937.0</td>\n",
       "      <td>5471.0</td>\n",
       "    </tr>\n",
       "  </tbody>\n",
       "</table>\n",
       "<p>5533 rows × 2 columns</p>\n",
       "</div>"
      ],
      "text/plain": [
       "       total_rooms  mean_total_bedrooms\n",
       "2990           2.0                  2.0\n",
       "16309          8.0                  1.0\n",
       "8188          11.0                 11.0\n",
       "15369         12.0                  4.0\n",
       "15656         15.0                  4.0\n",
       "...            ...                  ...\n",
       "1116       30401.0               4957.0\n",
       "8881       30405.0               4093.0\n",
       "2969       32054.0               5290.0\n",
       "12772      32627.0               6445.0\n",
       "2871       37937.0               5471.0\n",
       "\n",
       "[5533 rows x 2 columns]"
      ]
     },
     "execution_count": 48,
     "metadata": {},
     "output_type": "execute_result"
    }
   ],
   "source": [
    "medias_dormitorios_por_habitacion"
   ]
  },
  {
   "cell_type": "code",
   "execution_count": 49,
   "id": "3366d02b",
   "metadata": {
    "execution": {
     "iopub.execute_input": "2023-03-10T14:55:02.622886Z",
     "iopub.status.busy": "2023-03-10T14:55:02.622449Z",
     "iopub.status.idle": "2023-03-10T14:55:02.893976Z",
     "shell.execute_reply": "2023-03-10T14:55:02.893090Z"
    },
    "papermill": {
     "duration": 0.304423,
     "end_time": "2023-03-10T14:55:02.896589",
     "exception": false,
     "start_time": "2023-03-10T14:55:02.592166",
     "status": "completed"
    },
    "tags": []
   },
   "outputs": [
    {
     "data": {
      "text/plain": [
       "<AxesSubplot:xlabel='total_rooms', ylabel='mean_total_bedrooms'>"
      ]
     },
     "execution_count": 49,
     "metadata": {},
     "output_type": "execute_result"
    },
    {
     "data": {
      "image/png": "[encoded data removed]",
      "text/plain": [
       "<Figure size 640x480 with 1 Axes>"
      ]
     },
     "metadata": {},
     "output_type": "display_data"
    }
   ],
   "source": [
    "medias_dormitorios_por_habitacion.plot.scatter( x='total_rooms',y='mean_total_bedrooms',c='DarkBlue')"
   ]
  },
  {
   "cell_type": "markdown",
   "id": "eee7a3fb",
   "metadata": {
    "papermill": {
     "duration": 0.029873,
     "end_time": "2023-03-10T14:55:02.956915",
     "exception": false,
     "start_time": "2023-03-10T14:55:02.927042",
     "status": "completed"
    },
    "tags": []
   },
   "source": [
    "Estos datos tienen sentido. Cuantas mas habitaciones tenga un bloque de pisos mas media de dormitorios tiene que existir. Además los datos muestran que el numero de dormitorios nunca supera al numero de habitaciones "
   ]
  },
  {
   "cell_type": "markdown",
   "id": "faadb39b",
   "metadata": {
    "papermill": {
     "duration": 0.028718,
     "end_time": "2023-03-10T14:55:03.015119",
     "exception": false,
     "start_time": "2023-03-10T14:55:02.986401",
     "status": "completed"
    },
    "tags": []
   },
   "source": [
    "Ahora voy a calcular el número medio de habitantes en un bloque por habitaciones que contenga"
   ]
  },
  {
   "cell_type": "code",
   "execution_count": 50,
   "id": "e19cf42e",
   "metadata": {
    "execution": {
     "iopub.execute_input": "2023-03-10T14:55:03.074995Z",
     "iopub.status.busy": "2023-03-10T14:55:03.074218Z",
     "iopub.status.idle": "2023-03-10T14:55:26.422431Z",
     "shell.execute_reply": "2023-03-10T14:55:26.421028Z"
    },
    "papermill": {
     "duration": 23.381448,
     "end_time": "2023-03-10T14:55:26.425579",
     "exception": false,
     "start_time": "2023-03-10T14:55:03.044131",
     "status": "completed"
    },
    "tags": []
   },
   "outputs": [],
   "source": [
    "calculo_medias_poblacion_por_habitaciones  = calculo_medias_x_por_y (\"population\", \"total_rooms\", Data_housing_train)"
   ]
  },
  {
   "cell_type": "code",
   "execution_count": 51,
   "id": "deef3e9a",
   "metadata": {
    "execution": {
     "iopub.execute_input": "2023-03-10T14:55:26.485632Z",
     "iopub.status.busy": "2023-03-10T14:55:26.484831Z",
     "iopub.status.idle": "2023-03-10T14:55:26.498788Z",
     "shell.execute_reply": "2023-03-10T14:55:26.497525Z"
    },
    "papermill": {
     "duration": 0.046477,
     "end_time": "2023-03-10T14:55:26.501171",
     "exception": false,
     "start_time": "2023-03-10T14:55:26.454694",
     "status": "completed"
    },
    "tags": []
   },
   "outputs": [
    {
     "data": {
      "text/html": [
       "<div>\n",
       "<style scoped>\n",
       "    .dataframe tbody tr th:only-of-type {\n",
       "        vertical-align: middle;\n",
       "    }\n",
       "\n",
       "    .dataframe tbody tr th {\n",
       "        vertical-align: top;\n",
       "    }\n",
       "\n",
       "    .dataframe thead th {\n",
       "        text-align: right;\n",
       "    }\n",
       "</style>\n",
       "<table border=\"1\" class=\"dataframe\">\n",
       "  <thead>\n",
       "    <tr style=\"text-align: right;\">\n",
       "      <th></th>\n",
       "      <th>total_rooms</th>\n",
       "      <th>mean_population</th>\n",
       "    </tr>\n",
       "  </thead>\n",
       "  <tbody>\n",
       "    <tr>\n",
       "      <th>2990</th>\n",
       "      <td>2.0</td>\n",
       "      <td>6.0</td>\n",
       "    </tr>\n",
       "    <tr>\n",
       "      <th>16309</th>\n",
       "      <td>8.0</td>\n",
       "      <td>13.0</td>\n",
       "    </tr>\n",
       "    <tr>\n",
       "      <th>8188</th>\n",
       "      <td>11.0</td>\n",
       "      <td>24.0</td>\n",
       "    </tr>\n",
       "    <tr>\n",
       "      <th>15369</th>\n",
       "      <td>12.0</td>\n",
       "      <td>18.0</td>\n",
       "    </tr>\n",
       "    <tr>\n",
       "      <th>15656</th>\n",
       "      <td>15.0</td>\n",
       "      <td>13.0</td>\n",
       "    </tr>\n",
       "    <tr>\n",
       "      <th>...</th>\n",
       "      <td>...</td>\n",
       "      <td>...</td>\n",
       "    </tr>\n",
       "    <tr>\n",
       "      <th>1116</th>\n",
       "      <td>30401.0</td>\n",
       "      <td>13251.0</td>\n",
       "    </tr>\n",
       "    <tr>\n",
       "      <th>8881</th>\n",
       "      <td>30405.0</td>\n",
       "      <td>12873.0</td>\n",
       "    </tr>\n",
       "    <tr>\n",
       "      <th>2969</th>\n",
       "      <td>32054.0</td>\n",
       "      <td>15507.0</td>\n",
       "    </tr>\n",
       "    <tr>\n",
       "      <th>12772</th>\n",
       "      <td>32627.0</td>\n",
       "      <td>28566.0</td>\n",
       "    </tr>\n",
       "    <tr>\n",
       "      <th>2871</th>\n",
       "      <td>37937.0</td>\n",
       "      <td>16122.0</td>\n",
       "    </tr>\n",
       "  </tbody>\n",
       "</table>\n",
       "<p>5533 rows × 2 columns</p>\n",
       "</div>"
      ],
      "text/plain": [
       "       total_rooms  mean_population\n",
       "2990           2.0              6.0\n",
       "16309          8.0             13.0\n",
       "8188          11.0             24.0\n",
       "15369         12.0             18.0\n",
       "15656         15.0             13.0\n",
       "...            ...              ...\n",
       "1116       30401.0          13251.0\n",
       "8881       30405.0          12873.0\n",
       "2969       32054.0          15507.0\n",
       "12772      32627.0          28566.0\n",
       "2871       37937.0          16122.0\n",
       "\n",
       "[5533 rows x 2 columns]"
      ]
     },
     "execution_count": 51,
     "metadata": {},
     "output_type": "execute_result"
    }
   ],
   "source": [
    "calculo_medias_poblacion_por_habitaciones"
   ]
  },
  {
   "cell_type": "code",
   "execution_count": 52,
   "id": "b3ad4b78",
   "metadata": {
    "execution": {
     "iopub.execute_input": "2023-03-10T14:55:26.560697Z",
     "iopub.status.busy": "2023-03-10T14:55:26.560292Z",
     "iopub.status.idle": "2023-03-10T14:55:26.844262Z",
     "shell.execute_reply": "2023-03-10T14:55:26.842804Z"
    },
    "papermill": {
     "duration": 0.317599,
     "end_time": "2023-03-10T14:55:26.847742",
     "exception": false,
     "start_time": "2023-03-10T14:55:26.530143",
     "status": "completed"
    },
    "tags": []
   },
   "outputs": [
    {
     "data": {
      "text/plain": [
       "<AxesSubplot:xlabel='total_rooms', ylabel='mean_population'>"
      ]
     },
     "execution_count": 52,
     "metadata": {},
     "output_type": "execute_result"
    },
    {
     "data": {
      "image/png": "[encoded data removed]",
      "text/plain": [
       "<Figure size 640x480 with 1 Axes>"
      ]
     },
     "metadata": {},
     "output_type": "display_data"
    }
   ],
   "source": [
    "calculo_medias_poblacion_por_habitaciones.plot.scatter( x='total_rooms',y='mean_population',c='DarkBlue')"
   ]
  },
  {
   "cell_type": "markdown",
   "id": "031827d5",
   "metadata": {
    "papermill": {
     "duration": 0.029031,
     "end_time": "2023-03-10T14:55:26.906939",
     "exception": false,
     "start_time": "2023-03-10T14:55:26.877908",
     "status": "completed"
    },
    "tags": []
   },
   "source": [
    "Estos datos tienen sentido, cuantas mas habitaciones hay en un bloque de edificios más personas viven en el. Y en general se cumple. También se cumple en general que hay más habitaciones que personas en un bloque de pisos. Además me parece curioso calcular el valor medio de cuantas personas viven por habitación en un bloque"
   ]
  },
  {
   "cell_type": "code",
   "execution_count": 53,
   "id": "2fa8950a",
   "metadata": {
    "execution": {
     "iopub.execute_input": "2023-03-10T14:55:26.969767Z",
     "iopub.status.busy": "2023-03-10T14:55:26.969373Z",
     "iopub.status.idle": "2023-03-10T14:55:36.425565Z",
     "shell.execute_reply": "2023-03-10T14:55:36.424101Z"
    },
    "papermill": {
     "duration": 9.491387,
     "end_time": "2023-03-10T14:55:36.428547",
     "exception": false,
     "start_time": "2023-03-10T14:55:26.937160",
     "status": "completed"
    },
    "tags": []
   },
   "outputs": [
    {
     "name": "stdout",
     "output_type": "stream",
     "text": [
      "0.5830676881000687\n"
     ]
    }
   ],
   "source": [
    "s_total = 0\n",
    "\n",
    "for i in calculo_medias_poblacion_por_habitaciones.sort_index().index:\n",
    "    s = (calculo_medias_poblacion_por_habitaciones.iloc[: , 1].sort_index()[i]) / (calculo_medias_poblacion_por_habitaciones.iloc[: , 0].sort_index()[i])\n",
    "    \n",
    "    #For sencillo, solo necesito ordenar los datos\n",
    "    \n",
    "    s_total = s_total + s\n",
    "    \n",
    "\n",
    "print(s_total/5533)    \n",
    "\n"
   ]
  },
  {
   "cell_type": "markdown",
   "id": "66789bb5",
   "metadata": {
    "papermill": {
     "duration": 0.029342,
     "end_time": "2023-03-10T14:55:36.487885",
     "exception": false,
     "start_time": "2023-03-10T14:55:36.458543",
     "status": "completed"
    },
    "tags": []
   },
   "source": [
    "Se aproxima a 0.5. Cada 2 habitaciones que tenga una casa, se esperará que haya una persona viviendo.\n",
    "\n",
    "Y siendo exactos se espera que por cada habitacion haya 1,67 personas. Pero no es real porque las personas no se pueden separar."
   ]
  },
  {
   "cell_type": "markdown",
   "id": "e1948736",
   "metadata": {
    "papermill": {
     "duration": 0.030272,
     "end_time": "2023-03-10T14:55:36.548590",
     "exception": false,
     "start_time": "2023-03-10T14:55:36.518318",
     "status": "completed"
    },
    "tags": []
   },
   "source": [
    "Por último me gustaría saber si la gente vive más en el norte o en el sur en California de 1990. "
   ]
  },
  {
   "cell_type": "code",
   "execution_count": 54,
   "id": "d1c5d734",
   "metadata": {
    "execution": {
     "iopub.execute_input": "2023-03-10T14:55:36.609516Z",
     "iopub.status.busy": "2023-03-10T14:55:36.609103Z",
     "iopub.status.idle": "2023-03-10T14:56:00.213671Z",
     "shell.execute_reply": "2023-03-10T14:56:00.212592Z"
    },
    "papermill": {
     "duration": 23.638148,
     "end_time": "2023-03-10T14:56:00.216385",
     "exception": false,
     "start_time": "2023-03-10T14:55:36.578237",
     "status": "completed"
    },
    "tags": []
   },
   "outputs": [],
   "source": [
    "calculo_medias_poblacion_por_latitud= calculo_medias_x_por_y (\"population\", \"latitude\", Data_housing_train)"
   ]
  },
  {
   "cell_type": "code",
   "execution_count": 55,
   "id": "ead30e0f",
   "metadata": {
    "execution": {
     "iopub.execute_input": "2023-03-10T14:56:00.280755Z",
     "iopub.status.busy": "2023-03-10T14:56:00.280215Z",
     "iopub.status.idle": "2023-03-10T14:56:00.293218Z",
     "shell.execute_reply": "2023-03-10T14:56:00.292186Z"
    },
    "papermill": {
     "duration": 0.047926,
     "end_time": "2023-03-10T14:56:00.295587",
     "exception": false,
     "start_time": "2023-03-10T14:56:00.247661",
     "status": "completed"
    },
    "tags": []
   },
   "outputs": [
    {
     "data": {
      "text/html": [
       "<div>\n",
       "<style scoped>\n",
       "    .dataframe tbody tr th:only-of-type {\n",
       "        vertical-align: middle;\n",
       "    }\n",
       "\n",
       "    .dataframe tbody tr th {\n",
       "        vertical-align: top;\n",
       "    }\n",
       "\n",
       "    .dataframe thead th {\n",
       "        text-align: right;\n",
       "    }\n",
       "</style>\n",
       "<table border=\"1\" class=\"dataframe\">\n",
       "  <thead>\n",
       "    <tr style=\"text-align: right;\">\n",
       "      <th></th>\n",
       "      <th>latitude</th>\n",
       "      <th>mean_population</th>\n",
       "    </tr>\n",
       "  </thead>\n",
       "  <tbody>\n",
       "    <tr>\n",
       "      <th>680</th>\n",
       "      <td>32.54</td>\n",
       "      <td>1187.000000</td>\n",
       "    </tr>\n",
       "    <tr>\n",
       "      <th>796</th>\n",
       "      <td>32.55</td>\n",
       "      <td>3530.666667</td>\n",
       "    </tr>\n",
       "    <tr>\n",
       "      <th>1161</th>\n",
       "      <td>32.56</td>\n",
       "      <td>2417.888889</td>\n",
       "    </tr>\n",
       "    <tr>\n",
       "      <th>994</th>\n",
       "      <td>32.57</td>\n",
       "      <td>1740.769231</td>\n",
       "    </tr>\n",
       "    <tr>\n",
       "      <th>735</th>\n",
       "      <td>32.58</td>\n",
       "      <td>1481.350000</td>\n",
       "    </tr>\n",
       "    <tr>\n",
       "      <th>...</th>\n",
       "      <td>...</td>\n",
       "      <td>...</td>\n",
       "    </tr>\n",
       "    <tr>\n",
       "      <th>10620</th>\n",
       "      <td>41.82</td>\n",
       "      <td>429.000000</td>\n",
       "    </tr>\n",
       "    <tr>\n",
       "      <th>16997</th>\n",
       "      <td>41.84</td>\n",
       "      <td>1244.000000</td>\n",
       "    </tr>\n",
       "    <tr>\n",
       "      <th>13341</th>\n",
       "      <td>41.86</td>\n",
       "      <td>1532.333333</td>\n",
       "    </tr>\n",
       "    <tr>\n",
       "      <th>16883</th>\n",
       "      <td>41.88</td>\n",
       "      <td>660.000000</td>\n",
       "    </tr>\n",
       "    <tr>\n",
       "      <th>16497</th>\n",
       "      <td>41.95</td>\n",
       "      <td>1005.000000</td>\n",
       "    </tr>\n",
       "  </tbody>\n",
       "</table>\n",
       "<p>840 rows × 2 columns</p>\n",
       "</div>"
      ],
      "text/plain": [
       "       latitude  mean_population\n",
       "680       32.54      1187.000000\n",
       "796       32.55      3530.666667\n",
       "1161      32.56      2417.888889\n",
       "994       32.57      1740.769231\n",
       "735       32.58      1481.350000\n",
       "...         ...              ...\n",
       "10620     41.82       429.000000\n",
       "16997     41.84      1244.000000\n",
       "13341     41.86      1532.333333\n",
       "16883     41.88       660.000000\n",
       "16497     41.95      1005.000000\n",
       "\n",
       "[840 rows x 2 columns]"
      ]
     },
     "execution_count": 55,
     "metadata": {},
     "output_type": "execute_result"
    }
   ],
   "source": [
    "calculo_medias_poblacion_por_latitud"
   ]
  },
  {
   "cell_type": "code",
   "execution_count": 56,
   "id": "d2fbd91d",
   "metadata": {
    "execution": {
     "iopub.execute_input": "2023-03-10T14:56:00.360392Z",
     "iopub.status.busy": "2023-03-10T14:56:00.359620Z",
     "iopub.status.idle": "2023-03-10T14:56:00.598232Z",
     "shell.execute_reply": "2023-03-10T14:56:00.597021Z"
    },
    "papermill": {
     "duration": 0.273313,
     "end_time": "2023-03-10T14:56:00.600644",
     "exception": false,
     "start_time": "2023-03-10T14:56:00.327331",
     "status": "completed"
    },
    "tags": []
   },
   "outputs": [
    {
     "data": {
      "text/plain": [
       "<AxesSubplot:xlabel='latitude', ylabel='mean_population'>"
      ]
     },
     "execution_count": 56,
     "metadata": {},
     "output_type": "execute_result"
    },
    {
     "data": {
      "image/png": "[encoded data removed]",
      "text/plain": [
       "<Figure size 640x480 with 1 Axes>"
      ]
     },
     "metadata": {},
     "output_type": "display_data"
    }
   ],
   "source": [
    "calculo_medias_poblacion_por_latitud.plot.scatter( x='latitude',y='mean_population',c='DarkBlue')\n"
   ]
  },
  {
   "cell_type": "markdown",
   "id": "678b47c3",
   "metadata": {
    "papermill": {
     "duration": 0.030944,
     "end_time": "2023-03-10T14:56:00.662344",
     "exception": false,
     "start_time": "2023-03-10T14:56:00.631400",
     "status": "completed"
    },
    "tags": []
   },
   "source": [
    "Se podría concluir de forma timida que en California parece que la gente vive más en el sur. Se debería mirar más detenidamente"
   ]
  },
  {
   "cell_type": "markdown",
   "id": "7923b67b",
   "metadata": {
    "papermill": {
     "duration": 0.030772,
     "end_time": "2023-03-10T14:56:00.724396",
     "exception": false,
     "start_time": "2023-03-10T14:56:00.693624",
     "status": "completed"
    },
    "tags": []
   },
   "source": [
    "**Laboratorio 3**"
   ]
  },
  {
   "cell_type": "code",
   "execution_count": 57,
   "id": "04a72739",
   "metadata": {
    "execution": {
     "iopub.execute_input": "2023-03-10T14:56:00.789392Z",
     "iopub.status.busy": "2023-03-10T14:56:00.788943Z",
     "iopub.status.idle": "2023-03-10T14:56:00.799569Z",
     "shell.execute_reply": "2023-03-10T14:56:00.798405Z"
    },
    "papermill": {
     "duration": 0.046059,
     "end_time": "2023-03-10T14:56:00.802031",
     "exception": false,
     "start_time": "2023-03-10T14:56:00.755972",
     "status": "completed"
    },
    "tags": []
   },
   "outputs": [
    {
     "data": {
      "text/plain": [
       "0.1808624376336422"
      ]
     },
     "execution_count": 57,
     "metadata": {},
     "output_type": "execute_result"
    }
   ],
   "source": [
    "calculo_medias_poblacion_por_habitaciones.iloc[: , 1].sort_index()[0] / calculo_medias_poblacion_por_habitaciones.iloc[: , 0].sort_index()[0]"
   ]
  },
  {
   "cell_type": "code",
   "execution_count": 58,
   "id": "8383b507",
   "metadata": {
    "execution": {
     "iopub.execute_input": "2023-03-10T14:56:00.867091Z",
     "iopub.status.busy": "2023-03-10T14:56:00.866374Z",
     "iopub.status.idle": "2023-03-10T14:56:00.874027Z",
     "shell.execute_reply": "2023-03-10T14:56:00.873214Z"
    },
    "papermill": {
     "duration": 0.042475,
     "end_time": "2023-03-10T14:56:00.876238",
     "exception": false,
     "start_time": "2023-03-10T14:56:00.833763",
     "status": "completed"
    },
    "tags": []
   },
   "outputs": [
    {
     "data": {
      "text/plain": [
       "Int64Index([    0,     1,     6,    10,    13,    15,    17,    19,    24,\n",
       "               25,\n",
       "            ...\n",
       "            16968, 16971, 16978, 16983, 16986, 16988, 16989, 16990, 16991,\n",
       "            16993],\n",
       "           dtype='int64', length=5533)"
      ]
     },
     "execution_count": 58,
     "metadata": {},
     "output_type": "execute_result"
    }
   ],
   "source": [
    "calculo_medias_poblacion_por_habitaciones.sort_index().index"
   ]
  },
  {
   "cell_type": "code",
   "execution_count": 59,
   "id": "1838f823",
   "metadata": {
    "execution": {
     "iopub.execute_input": "2023-03-10T14:56:00.941235Z",
     "iopub.status.busy": "2023-03-10T14:56:00.940771Z",
     "iopub.status.idle": "2023-03-10T14:56:00.950982Z",
     "shell.execute_reply": "2023-03-10T14:56:00.949689Z"
    },
    "papermill": {
     "duration": 0.045269,
     "end_time": "2023-03-10T14:56:00.953392",
     "exception": false,
     "start_time": "2023-03-10T14:56:00.908123",
     "status": "completed"
    },
    "tags": []
   },
   "outputs": [
    {
     "data": {
      "text/plain": [
       "0        1015.000000\n",
       "1        1129.000000\n",
       "6        1895.500000\n",
       "10       1886.500000\n",
       "13       1456.500000\n",
       "            ...     \n",
       "16988    1993.000000\n",
       "16989     911.333333\n",
       "16990    1530.000000\n",
       "16991    1370.500000\n",
       "16993    1152.000000\n",
       "Name: mean_population, Length: 5533, dtype: float64"
      ]
     },
     "execution_count": 59,
     "metadata": {},
     "output_type": "execute_result"
    }
   ],
   "source": [
    "calculo_medias_poblacion_por_habitaciones.iloc[: , 1].sort_index()"
   ]
  },
  {
   "cell_type": "code",
   "execution_count": 60,
   "id": "270cbe11",
   "metadata": {
    "execution": {
     "iopub.execute_input": "2023-03-10T14:56:01.019682Z",
     "iopub.status.busy": "2023-03-10T14:56:01.018515Z",
     "iopub.status.idle": "2023-03-10T14:56:01.029475Z",
     "shell.execute_reply": "2023-03-10T14:56:01.028384Z"
    },
    "papermill": {
     "duration": 0.046311,
     "end_time": "2023-03-10T14:56:01.031717",
     "exception": false,
     "start_time": "2023-03-10T14:56:00.985406",
     "status": "completed"
    },
    "tags": []
   },
   "outputs": [
    {
     "data": {
      "text/html": [
       "<div>\n",
       "<style scoped>\n",
       "    .dataframe tbody tr th:only-of-type {\n",
       "        vertical-align: middle;\n",
       "    }\n",
       "\n",
       "    .dataframe tbody tr th {\n",
       "        vertical-align: top;\n",
       "    }\n",
       "\n",
       "    .dataframe thead th {\n",
       "        text-align: right;\n",
       "    }\n",
       "</style>\n",
       "<table border=\"1\" class=\"dataframe\">\n",
       "  <thead>\n",
       "    <tr style=\"text-align: right;\">\n",
       "      <th></th>\n",
       "      <th>total_rooms</th>\n",
       "      <th>mean_total_bedrooms</th>\n",
       "    </tr>\n",
       "  </thead>\n",
       "  <tbody>\n",
       "    <tr>\n",
       "      <th>3385</th>\n",
       "      <td>720.0</td>\n",
       "      <td>191.25</td>\n",
       "    </tr>\n",
       "  </tbody>\n",
       "</table>\n",
       "</div>"
      ],
      "text/plain": [
       "      total_rooms  mean_total_bedrooms\n",
       "3385        720.0               191.25"
      ]
     },
     "execution_count": 60,
     "metadata": {},
     "output_type": "execute_result"
    }
   ],
   "source": [
    "medias_dormitorios_por_habitacion.loc[medias_dormitorios_por_habitacion.total_rooms == 720]"
   ]
  },
  {
   "cell_type": "code",
   "execution_count": 61,
   "id": "ef46a033",
   "metadata": {
    "execution": {
     "iopub.execute_input": "2023-03-10T14:56:01.096542Z",
     "iopub.status.busy": "2023-03-10T14:56:01.095879Z",
     "iopub.status.idle": "2023-03-10T14:56:01.112473Z",
     "shell.execute_reply": "2023-03-10T14:56:01.111631Z"
    },
    "papermill": {
     "duration": 0.05197,
     "end_time": "2023-03-10T14:56:01.114729",
     "exception": false,
     "start_time": "2023-03-10T14:56:01.062759",
     "status": "completed"
    },
    "tags": []
   },
   "outputs": [
    {
     "data": {
      "text/html": [
       "<div>\n",
       "<style scoped>\n",
       "    .dataframe tbody tr th:only-of-type {\n",
       "        vertical-align: middle;\n",
       "    }\n",
       "\n",
       "    .dataframe tbody tr th {\n",
       "        vertical-align: top;\n",
       "    }\n",
       "\n",
       "    .dataframe thead th {\n",
       "        text-align: right;\n",
       "    }\n",
       "</style>\n",
       "<table border=\"1\" class=\"dataframe\">\n",
       "  <thead>\n",
       "    <tr style=\"text-align: right;\">\n",
       "      <th></th>\n",
       "      <th>longitude</th>\n",
       "      <th>latitude</th>\n",
       "      <th>housing_median_age</th>\n",
       "      <th>total_rooms</th>\n",
       "      <th>total_bedrooms</th>\n",
       "      <th>population</th>\n",
       "      <th>households</th>\n",
       "      <th>median_income</th>\n",
       "      <th>median_house_value</th>\n",
       "    </tr>\n",
       "  </thead>\n",
       "  <tbody>\n",
       "    <tr>\n",
       "      <th>2</th>\n",
       "      <td>-114.56</td>\n",
       "      <td>33.69</td>\n",
       "      <td>17.0</td>\n",
       "      <td>720.0</td>\n",
       "      <td>174.0</td>\n",
       "      <td>333.0</td>\n",
       "      <td>117.0</td>\n",
       "      <td>1.6509</td>\n",
       "      <td>85700.0</td>\n",
       "    </tr>\n",
       "    <tr>\n",
       "      <th>3385</th>\n",
       "      <td>-117.88</td>\n",
       "      <td>33.74</td>\n",
       "      <td>29.0</td>\n",
       "      <td>720.0</td>\n",
       "      <td>174.0</td>\n",
       "      <td>1045.0</td>\n",
       "      <td>181.0</td>\n",
       "      <td>3.1964</td>\n",
       "      <td>151900.0</td>\n",
       "    </tr>\n",
       "    <tr>\n",
       "      <th>6930</th>\n",
       "      <td>-118.31</td>\n",
       "      <td>34.09</td>\n",
       "      <td>28.0</td>\n",
       "      <td>720.0</td>\n",
       "      <td>267.0</td>\n",
       "      <td>891.0</td>\n",
       "      <td>265.0</td>\n",
       "      <td>1.8977</td>\n",
       "      <td>100000.0</td>\n",
       "    </tr>\n",
       "    <tr>\n",
       "      <th>12367</th>\n",
       "      <td>-121.54</td>\n",
       "      <td>39.33</td>\n",
       "      <td>27.0</td>\n",
       "      <td>720.0</td>\n",
       "      <td>150.0</td>\n",
       "      <td>359.0</td>\n",
       "      <td>138.0</td>\n",
       "      <td>2.5313</td>\n",
       "      <td>61300.0</td>\n",
       "    </tr>\n",
       "  </tbody>\n",
       "</table>\n",
       "</div>"
      ],
      "text/plain": [
       "       longitude  latitude  housing_median_age  total_rooms  total_bedrooms  \\\n",
       "2        -114.56     33.69                17.0        720.0           174.0   \n",
       "3385     -117.88     33.74                29.0        720.0           174.0   \n",
       "6930     -118.31     34.09                28.0        720.0           267.0   \n",
       "12367    -121.54     39.33                27.0        720.0           150.0   \n",
       "\n",
       "       population  households  median_income  median_house_value  \n",
       "2           333.0       117.0         1.6509             85700.0  \n",
       "3385       1045.0       181.0         3.1964            151900.0  \n",
       "6930        891.0       265.0         1.8977            100000.0  \n",
       "12367       359.0       138.0         2.5313             61300.0  "
      ]
     },
     "execution_count": 61,
     "metadata": {},
     "output_type": "execute_result"
    }
   ],
   "source": [
    "\n",
    "\n",
    "Data_housing_train.loc[Data_housing_train.total_rooms == 720]"
   ]
  }
 ],
 "metadata": {
  "kernelspec": {
   "display_name": "Python 3",
   "language": "python",
   "name": "python3"
  },
  "language_info": {
   "codemirror_mode": {
    "name": "ipython",
    "version": 3
   },
   "file_extension": ".py",
   "mimetype": "text/x-python",
   "name": "python",
   "nbconvert_exporter": "python",
   "pygments_lexer": "ipython3",
   "version": "3.7.12"
  },
  "papermill": {
   "default_parameters": {},
   "duration": 140.911923,
   "end_time": "2023-03-10T14:56:01.970020",
   "environment_variables": {},
   "exception": null,
   "input_path": "__notebook__.ipynb",
   "output_path": "__notebook__.ipynb",
   "parameters": {},
   "start_time": "2023-03-10T14:53:41.058097",
   "version": "2.4.0"
  }
 },
 "nbformat": 4,
 "nbformat_minor": 5
}
